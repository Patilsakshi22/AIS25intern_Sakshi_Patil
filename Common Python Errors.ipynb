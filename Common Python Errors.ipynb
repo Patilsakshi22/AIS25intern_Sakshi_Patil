{
 "cells": [
  {
   "cell_type": "markdown",
   "id": "bd9dbe80-3a61-4eb8-a68d-e13d9361749a",
   "metadata": {},
   "source": [
    "# Common Python Errors\n"
   ]
  },
  {
   "cell_type": "markdown",
   "id": "f77e6043-4669-4546-abe9-aa13df56bab7",
   "metadata": {},
   "source": [
    "## Indentation Error:"
   ]
  },
  {
   "cell_type": "markdown",
   "id": "9decfcf3-f244-4415-91a2-4931c34850aa",
   "metadata": {},
   "source": [
    "\n",
    "* Cause: Incorrect indentation in python code\n",
    "* fix : use consistent indentation(4 spaces)for blocks of code."
   ]
  },
  {
   "cell_type": "markdown",
   "id": "c17d2ac9-672d-4c68-bfc6-184629593ac9",
   "metadata": {},
   "source": [
    "#### Incorrect indentation"
   ]
  },
  {
   "cell_type": "code",
   "execution_count": 22,
   "id": "ed1eada9-1ddc-4109-8b09-123c10a1fa3b",
   "metadata": {},
   "outputs": [
    {
     "ename": "IndentationError",
     "evalue": "unindent does not match any outer indentation level (<tokenize>, line 3)",
     "output_type": "error",
     "traceback": [
      "\u001b[1;36m  File \u001b[1;32m<tokenize>:3\u001b[1;36m\u001b[0m\n\u001b[1;33m    print(\"Hot\")\u001b[0m\n\u001b[1;37m    ^\u001b[0m\n\u001b[1;31mIndentationError\u001b[0m\u001b[1;31m:\u001b[0m unindent does not match any outer indentation level\n"
     ]
    }
   ],
   "source": [
    "if True\n",
    "   print(\"Cool\")\n",
    " print(\"Hot\")\n",
    "  "
   ]
  },
  {
   "cell_type": "markdown",
   "id": "5aa5c125-8658-437d-a885-87bf2782bfaa",
   "metadata": {},
   "source": [
    "#### Correct Indentation\n"
   ]
  },
  {
   "cell_type": "code",
   "execution_count": 23,
   "id": "66ca50d2-f07e-497f-96dd-57185cb92bc2",
   "metadata": {},
   "outputs": [
    {
     "name": "stdout",
     "output_type": "stream",
     "text": [
      "Cool\n",
      "Hot\n"
     ]
    }
   ],
   "source": [
    "if True:\n",
    "    print(\"Cool\")\n",
    "    print(\"Hot\")"
   ]
  },
  {
   "cell_type": "markdown",
   "id": "5e5a8c0c-a1d3-423a-b198-3c2000f8ed3b",
   "metadata": {},
   "source": [
    "## Name error\n"
   ]
  },
  {
   "cell_type": "markdown",
   "id": "f4f9af26-d86e-4e26-916d-740d89d60876",
   "metadata": {},
   "source": [
    "* Cause: using an undefined variable\n",
    "* Fix : Define the variable before using it."
   ]
  },
  {
   "cell_type": "markdown",
   "id": "e136a0ed-b3e0-409c-b3f8-6d7c2c664a1d",
   "metadata": {},
   "source": [
    "#### Undefined variable"
   ]
  },
  {
   "cell_type": "code",
   "execution_count": 28,
   "id": "f4581c4c-1219-4c83-b338-d7e1f1766159",
   "metadata": {},
   "outputs": [
    {
     "ename": "NameError",
     "evalue": "name 'Z' is not defined",
     "output_type": "error",
     "traceback": [
      "\u001b[1;31m---------------------------------------------------------------------------\u001b[0m",
      "\u001b[1;31mNameError\u001b[0m                                 Traceback (most recent call last)",
      "Cell \u001b[1;32mIn[28], line 1\u001b[0m\n\u001b[1;32m----> 1\u001b[0m \u001b[38;5;28mprint\u001b[39m(Z)\n",
      "\u001b[1;31mNameError\u001b[0m: name 'Z' is not defined"
     ]
    }
   ],
   "source": [
    "print(Z)"
   ]
  },
  {
   "cell_type": "markdown",
   "id": "5c689979-52b5-47cb-b8d7-7ffa25033ebf",
   "metadata": {},
   "source": [
    "#### Define the variable"
   ]
  },
  {
   "cell_type": "code",
   "execution_count": 30,
   "id": "350ad033-e349-4bdd-bcc1-3318f0de296d",
   "metadata": {},
   "outputs": [
    {
     "name": "stdout",
     "output_type": "stream",
     "text": [
      "100\n"
     ]
    }
   ],
   "source": [
    "Z=100\n",
    "print(Z)"
   ]
  },
  {
   "cell_type": "markdown",
   "id": "399d64de-c0ae-417c-bb5e-39553bca039b",
   "metadata": {},
   "source": [
    "## Value Error"
   ]
  },
  {
   "cell_type": "markdown",
   "id": "e8ca26cc-6d6e-4054-b920-eff0e476c596",
   "metadata": {},
   "source": [
    "* Cause:Passing an incorrect value to a fun\n",
    "* Fix:Pass the correct value type"
   ]
  },
  {
   "cell_type": "markdown",
   "id": "dc3cfcfa-e36e-4f0b-a14e-96364d357bfe",
   "metadata": {},
   "source": [
    "#### Incorrect value type"
   ]
  },
  {
   "cell_type": "code",
   "execution_count": 36,
   "id": "ae79702c-ea44-4533-a26e-b3ee77ef6c42",
   "metadata": {},
   "outputs": [
    {
     "ename": "ValueError",
     "evalue": "invalid literal for int() with base 10: 'Sun'",
     "output_type": "error",
     "traceback": [
      "\u001b[1;31m---------------------------------------------------------------------------\u001b[0m",
      "\u001b[1;31mValueError\u001b[0m                                Traceback (most recent call last)",
      "Cell \u001b[1;32mIn[36], line 1\u001b[0m\n\u001b[1;32m----> 1\u001b[0m s\u001b[38;5;241m=\u001b[39m\u001b[38;5;28mint\u001b[39m(\u001b[38;5;124m\"\u001b[39m\u001b[38;5;124mSun\u001b[39m\u001b[38;5;124m\"\u001b[39m)\n\u001b[0;32m      2\u001b[0m \u001b[38;5;28mprint\u001b[39m(s)\n",
      "\u001b[1;31mValueError\u001b[0m: invalid literal for int() with base 10: 'Sun'"
     ]
    }
   ],
   "source": [
    "s=int(\"Sun\")\n",
    "print(s)"
   ]
  },
  {
   "cell_type": "markdown",
   "id": "46fa61b4-d104-4ab7-97f3-59d35fd58b32",
   "metadata": {},
   "source": [
    "#### Correct value type"
   ]
  },
  {
   "cell_type": "code",
   "execution_count": 37,
   "id": "b06d8725-0c25-4380-bb10-a934309ec7ec",
   "metadata": {},
   "outputs": [
    {
     "name": "stdout",
     "output_type": "stream",
     "text": [
      "66\n"
     ]
    }
   ],
   "source": [
    "s=int(66)\n",
    "print(s)"
   ]
  },
  {
   "cell_type": "markdown",
   "id": "54725810-69de-40c2-954c-7db39b91fc09",
   "metadata": {},
   "source": [
    "## Type Error"
   ]
  },
  {
   "cell_type": "markdown",
   "id": "740e4cdb-9fb5-4f1b-9e17-e89e33549781",
   "metadata": {},
   "source": [
    "#### Incorrect value type"
   ]
  },
  {
   "cell_type": "code",
   "execution_count": 39,
   "id": "39060c85-f2bb-44bc-8b24-1da924e743c8",
   "metadata": {},
   "outputs": [
    {
     "ename": "TypeError",
     "evalue": "unsupported operand type(s) for +: 'int' and 'str'",
     "output_type": "error",
     "traceback": [
      "\u001b[1;31m---------------------------------------------------------------------------\u001b[0m",
      "\u001b[1;31mTypeError\u001b[0m                                 Traceback (most recent call last)",
      "Cell \u001b[1;32mIn[39], line 3\u001b[0m\n\u001b[0;32m      1\u001b[0m a\u001b[38;5;241m=\u001b[39m\u001b[38;5;241m10\u001b[39m\n\u001b[0;32m      2\u001b[0m b\u001b[38;5;241m=\u001b[39m\u001b[38;5;124m\"\u001b[39m\u001b[38;5;124mHiii\u001b[39m\u001b[38;5;124m\"\u001b[39m\n\u001b[1;32m----> 3\u001b[0m \u001b[38;5;28mprint\u001b[39m(a \u001b[38;5;241m+\u001b[39m b)\n",
      "\u001b[1;31mTypeError\u001b[0m: unsupported operand type(s) for +: 'int' and 'str'"
     ]
    }
   ],
   "source": [
    "a=10\n",
    "b=\"Hiii\"\n",
    "print(a + b)"
   ]
  },
  {
   "cell_type": "markdown",
   "id": "3cbe9e2c-cdf0-48e9-b34c-180c11d5d306",
   "metadata": {},
   "source": [
    "#### Correct value type"
   ]
  },
  {
   "cell_type": "code",
   "execution_count": 42,
   "id": "72522ccd-f301-4da0-ad61-4c0d80608a17",
   "metadata": {},
   "outputs": [
    {
     "name": "stdout",
     "output_type": "stream",
     "text": [
      "10Hiii\n"
     ]
    }
   ],
   "source": [
    "a=10\n",
    "b=\"Hiii\"\n",
    "print(str(a) + b)"
   ]
  },
  {
   "cell_type": "markdown",
   "id": "7a3373b3-6da9-4602-a33b-3ce582c736a9",
   "metadata": {},
   "source": [
    "## Index Error"
   ]
  },
  {
   "cell_type": "markdown",
   "id": "20494799-6bda-45fb-8972-a2d2d2652d89",
   "metadata": {},
   "source": [
    "* Cause : accessing an out of range index in a list or tuple.\n",
    "* Fix : access a valid index."
   ]
  },
  {
   "cell_type": "markdown",
   "id": "6f761526-04b9-4934-92c5-cf87d12de04d",
   "metadata": {},
   "source": [
    "#### Invalid index"
   ]
  },
  {
   "cell_type": "code",
   "execution_count": 45,
   "id": "f030eacc-4fee-4752-be6c-9e993b4d51ed",
   "metadata": {},
   "outputs": [
    {
     "ename": "IndexError",
     "evalue": "list index out of range",
     "output_type": "error",
     "traceback": [
      "\u001b[1;31m---------------------------------------------------------------------------\u001b[0m",
      "\u001b[1;31mIndexError\u001b[0m                                Traceback (most recent call last)",
      "Cell \u001b[1;32mIn[45], line 2\u001b[0m\n\u001b[0;32m      1\u001b[0m my_list\u001b[38;5;241m=\u001b[39m[\u001b[38;5;241m10\u001b[39m,\u001b[38;5;241m20\u001b[39m,\u001b[38;5;241m30\u001b[39m]\n\u001b[1;32m----> 2\u001b[0m \u001b[38;5;28mprint\u001b[39m(my_list[\u001b[38;5;241m3\u001b[39m])\n",
      "\u001b[1;31mIndexError\u001b[0m: list index out of range"
     ]
    }
   ],
   "source": [
    "my_list=[10,20,30]\n",
    "print(my_list[3])"
   ]
  },
  {
   "cell_type": "markdown",
   "id": "05447165-f12d-4985-a46d-8999ee311120",
   "metadata": {},
   "source": [
    "#### Valid Index"
   ]
  },
  {
   "cell_type": "code",
   "execution_count": 48,
   "id": "cdf19ed5-6747-467a-b394-ea5088624c74",
   "metadata": {},
   "outputs": [
    {
     "name": "stdout",
     "output_type": "stream",
     "text": [
      "10\n",
      "20\n",
      "30\n"
     ]
    }
   ],
   "source": [
    "my_list=[10,20,30]\n",
    "print(my_list[0])\n",
    "print(my_list[1])\n",
    "print(my_list[2])"
   ]
  },
  {
   "cell_type": "markdown",
   "id": "a0622310-5d35-488e-8925-10a61ac5a156",
   "metadata": {},
   "source": [
    "## Key Error\n"
   ]
  },
  {
   "cell_type": "markdown",
   "id": "2e0288a7-ba70-453b-a4b2-7d998657205a",
   "metadata": {},
   "source": [
    "* Cause : Accessing a non -existent key in a dictionary.\n",
    "* Fix : Access a valid key."
   ]
  },
  {
   "cell_type": "markdown",
   "id": "73eb336a-7192-45d3-94b5-7ff271f2fdd7",
   "metadata": {},
   "source": [
    "#### Non -Existent key"
   ]
  },
  {
   "cell_type": "code",
   "execution_count": 49,
   "id": "280d9c2a-1322-40ac-a63d-be3819c6b328",
   "metadata": {},
   "outputs": [
    {
     "ename": "KeyError",
     "evalue": "'city'",
     "output_type": "error",
     "traceback": [
      "\u001b[1;31m---------------------------------------------------------------------------\u001b[0m",
      "\u001b[1;31mKeyError\u001b[0m                                  Traceback (most recent call last)",
      "Cell \u001b[1;32mIn[49], line 2\u001b[0m\n\u001b[0;32m      1\u001b[0m dict1\u001b[38;5;241m=\u001b[39m{\u001b[38;5;124m\"\u001b[39m\u001b[38;5;124mname\u001b[39m\u001b[38;5;124m\"\u001b[39m:\u001b[38;5;124m\"\u001b[39m\u001b[38;5;124mram\u001b[39m\u001b[38;5;124m\"\u001b[39m,\u001b[38;5;124m\"\u001b[39m\u001b[38;5;124mage\u001b[39m\u001b[38;5;124m\"\u001b[39m:\u001b[38;5;124m\"\u001b[39m\u001b[38;5;124m40\u001b[39m\u001b[38;5;124m\"\u001b[39m}\n\u001b[1;32m----> 2\u001b[0m \u001b[38;5;28mprint\u001b[39m(dict1[\u001b[38;5;124m\"\u001b[39m\u001b[38;5;124mcity\u001b[39m\u001b[38;5;124m\"\u001b[39m])\n",
      "\u001b[1;31mKeyError\u001b[0m: 'city'"
     ]
    }
   ],
   "source": [
    "dict1={\"name\":\"ram\",\"age\":\"40\"}\n",
    "print(dict1[\"city\"])"
   ]
  },
  {
   "cell_type": "markdown",
   "id": "529f079b-cbf6-4590-83fd-81a3ca50c247",
   "metadata": {},
   "source": [
    "#### Valid key"
   ]
  },
  {
   "cell_type": "code",
   "execution_count": 50,
   "id": "9abcc5e3-401a-4796-b66e-51b9d74d7598",
   "metadata": {},
   "outputs": [
    {
     "name": "stdout",
     "output_type": "stream",
     "text": [
      "Satara\n"
     ]
    }
   ],
   "source": [
    "dict1={\"name\":\"ram\",\"age\":\"40\",\"city\":\"Satara\"}\n",
    "print(dict1[\"city\"])"
   ]
  },
  {
   "cell_type": "code",
   "execution_count": null,
   "id": "feb1d038-dab7-479a-b803-90df3bee8b4d",
   "metadata": {},
   "outputs": [],
   "source": []
  }
 ],
 "metadata": {
  "kernelspec": {
   "display_name": "Python 3 (ipykernel)",
   "language": "python",
   "name": "python3"
  },
  "language_info": {
   "codemirror_mode": {
    "name": "ipython",
    "version": 3
   },
   "file_extension": ".py",
   "mimetype": "text/x-python",
   "name": "python",
   "nbconvert_exporter": "python",
   "pygments_lexer": "ipython3",
   "version": "3.11.7"
  }
 },
 "nbformat": 4,
 "nbformat_minor": 5
}
