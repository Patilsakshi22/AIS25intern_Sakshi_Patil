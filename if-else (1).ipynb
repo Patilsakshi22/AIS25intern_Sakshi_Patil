{
 "cells": [
  {
   "cell_type": "markdown",
   "id": "5f91e59c-f983-43ea-9267-c65d68486a1e",
   "metadata": {},
   "source": [
    "# if-else"
   ]
  },
  {
   "cell_type": "markdown",
   "id": "3d500427-50af-407a-87c4-bc82988d3c83",
   "metadata": {},
   "source": [
    "#### 1) Grade Code="
   ]
  },
  {
   "cell_type": "code",
   "execution_count": 2,
   "id": "40f95266-b634-43a6-a0d7-8097ea31f434",
   "metadata": {},
   "outputs": [
    {
     "name": "stdout",
     "output_type": "stream",
     "text": [
      "Grade C\n"
     ]
    }
   ],
   "source": [
    "p=50\n",
    "if p>75:\n",
    "    print('Grade O')\n",
    "elif 60<p<=75:\n",
    "    print('Grade A')\n",
    "elif 50<p<=60:\n",
    "    print('Grade B')\n",
    "elif 35<=p<=50:\n",
    "    print('Grade C')\n",
    "else:\n",
    "    print('Fail')"
   ]
  },
  {
   "cell_type": "markdown",
   "id": "ab0bd87a-4fcc-4ed0-9124-146987df1175",
   "metadata": {},
   "source": [
    "#### 2) n divisible by 2 or 3 "
   ]
  },
  {
   "cell_type": "code",
   "execution_count": 3,
   "id": "2556a664-6d13-4567-80c3-c7d07c09952c",
   "metadata": {},
   "outputs": [
    {
     "name": "stdout",
     "output_type": "stream",
     "text": [
      "Not divisible by 2 and 3\n"
     ]
    }
   ],
   "source": [
    "n=7\n",
    "if n%2==0 and n%3 == 0:\n",
    "    print('Divisible by 2 and 3')\n",
    "elif n%2==0:\n",
    "    print('Divisible by 2 , not by 3')\n",
    "elif n%3==0:\n",
    "    print('Divisible by 3 , not by 2')\n",
    "else:\n",
    "    print('Not divisible by 2 and 3')\n",
    "    "
   ]
  },
  {
   "cell_type": "markdown",
   "id": "676b5a41-630e-4373-b2c9-b4931db433f5",
   "metadata": {},
   "source": [
    "#### Example of if:"
   ]
  },
  {
   "cell_type": "markdown",
   "id": "25fabae9-3988-4953-ac36-b49a98e1f0eb",
   "metadata": {},
   "source": [
    "Structure of an if Statement:\n",
    "* Condition: A logical expression that evaluates to either true or false.\n",
    "* Code Block: A set of instructions executed only when the condition is true.\n"
   ]
  },
  {
   "cell_type": "raw",
   "id": "25cd8247-09f3-4691-bf87-7031503edb26",
   "metadata": {},
   "source": [
    "Syntax:\n",
    "if (condition) {\n",
    "    // Code to execute if the condition is true\n",
    "}"
   ]
  },
  {
   "cell_type": "raw",
   "id": "ca454f9c-e881-4edc-8ea1-5737894fc6d5",
   "metadata": {},
   "source": [
    "i.Check Positive Numbers"
   ]
  },
  {
   "cell_type": "code",
   "execution_count": 4,
   "id": "85acee49-e732-4018-a8e7-f4426ea76c22",
   "metadata": {},
   "outputs": [
    {
     "name": "stdout",
     "output_type": "stream",
     "text": [
      "Positive Number\n"
     ]
    }
   ],
   "source": [
    "a=20\n",
    "if a>0:\n",
    "    print('Positive Number')"
   ]
  },
  {
   "cell_type": "raw",
   "id": "78968269-f55c-454e-b39e-da458ae9d546",
   "metadata": {},
   "source": [
    "ii.Check if a number is greater than 100"
   ]
  },
  {
   "cell_type": "code",
   "execution_count": 5,
   "id": "50708975-7c8b-47c1-88fa-3b0e950d21dc",
   "metadata": {},
   "outputs": [
    {
     "name": "stdout",
     "output_type": "stream",
     "text": [
      "num is greater than 100\n"
     ]
    }
   ],
   "source": [
    "num1=150\n",
    "if num1>100:\n",
    "    print('num is greater than 100')"
   ]
  },
  {
   "cell_type": "raw",
   "id": "17f98ae6-40fe-4102-aecf-93b1bfb68aef",
   "metadata": {},
   "source": [
    "iii.Check for even numbers"
   ]
  },
  {
   "cell_type": "code",
   "execution_count": 6,
   "id": "bbfe9f8a-9c8c-4398-bd86-c87d306b7ea8",
   "metadata": {},
   "outputs": [
    {
     "name": "stdout",
     "output_type": "stream",
     "text": [
      "number is even\n"
     ]
    }
   ],
   "source": [
    "num2=10\n",
    "if num2 % 2 == 0:\n",
    "    print('number is even')"
   ]
  },
  {
   "cell_type": "raw",
   "id": "d2aaa10f-1e1f-4034-a645-bbcdaf91f1ff",
   "metadata": {},
   "source": [
    "iv.Check if two numbers are equal"
   ]
  },
  {
   "cell_type": "code",
   "execution_count": 7,
   "id": "9567db1f-243b-48c4-ab64-c32b8428a1b0",
   "metadata": {},
   "outputs": [
    {
     "name": "stdout",
     "output_type": "stream",
     "text": [
      "a and b are equal\n"
     ]
    }
   ],
   "source": [
    "a = 10\n",
    "b = 10\n",
    "if a == b:\n",
    "    print(\"a and b are equal\")"
   ]
  },
  {
   "cell_type": "raw",
   "id": "d76e7387-c246-43a8-8138-085b12f276a0",
   "metadata": {},
   "source": [
    "v.Check if a number is negative"
   ]
  },
  {
   "cell_type": "code",
   "execution_count": 8,
   "id": "c38fa687-0d90-4e15-9a41-493864c626f1",
   "metadata": {},
   "outputs": [
    {
     "name": "stdout",
     "output_type": "stream",
     "text": [
      "The number is negative\n"
     ]
    }
   ],
   "source": [
    "number = -3\n",
    "if number < 0:\n",
    "    print(\"The number is negative\")"
   ]
  },
  {
   "cell_type": "markdown",
   "id": "7513999d-51e2-404b-837b-90f3ce2db085",
   "metadata": {},
   "source": [
    "#### Example of if-else:"
   ]
  },
  {
   "cell_type": "markdown",
   "id": "528a6519-a9a9-4ebb-b4ea-12919c4c4280",
   "metadata": {},
   "source": [
    "Theory of If-Else Statement:\n",
    "* An if-else statement evaluates a condition (a Boolean expression).\n",
    "* If the condition evaluates to true, the code block within the if statement is executed.\n",
    "* If the condition evaluates to false, the code block within the else statement is executed.\n"
   ]
  },
  {
   "cell_type": "raw",
   "id": "5388ae52-0354-430b-b210-9a437dbce59e",
   "metadata": {},
   "source": [
    "Syntax:\n",
    "if (condition):\n",
    "    // Code to execute if the condition is true\n",
    "else:\n",
    "    // Code to execute if the condition is false\n"
   ]
  },
  {
   "cell_type": "raw",
   "id": "093cab81-fae1-4337-a515-cd926fdc64e4",
   "metadata": {},
   "source": [
    "i.Check if a number is even or odd"
   ]
  },
  {
   "cell_type": "raw",
   "id": "beee9400-9b8c-454c-b4b2-f03497276c04",
   "metadata": {},
   "source": [
    "num4 = 7\n",
    "if num4 % 2 == 0:\n",
    "    print(\"The number is even\")\n",
    "else:\n",
    "    print(\"The number is odd\")"
   ]
  },
  {
   "cell_type": "raw",
   "id": "d7a8f828-360f-4eee-808f-c2c0530fd264",
   "metadata": {},
   "source": [
    "ii.Check if a number is positive or negative"
   ]
  },
  {
   "cell_type": "code",
   "execution_count": 11,
   "id": "ece18d62-92ee-4ff8-9f3e-993376ebf9ca",
   "metadata": {},
   "outputs": [
    {
     "name": "stdout",
     "output_type": "stream",
     "text": [
      "The number is negative\n"
     ]
    }
   ],
   "source": [
    "number2 = -15\n",
    "if number2 >= 0:\n",
    "    print(\"The number is positive\")\n",
    "else:\n",
    "    print(\"The number is negative\")\n"
   ]
  },
  {
   "cell_type": "raw",
   "id": "9b328091-0d3a-45d0-9af2-21b992ac5dd2",
   "metadata": {},
   "source": [
    "iii.Check if a person is eligible to vote"
   ]
  },
  {
   "cell_type": "code",
   "execution_count": 12,
   "id": "270af5a2-4b62-4a77-8184-9c34bcca2379",
   "metadata": {},
   "outputs": [
    {
     "name": "stdout",
     "output_type": "stream",
     "text": [
      "You are not eligible to vote\n"
     ]
    }
   ],
   "source": [
    "age = 17\n",
    "if age >= 18:\n",
    "    print(\"You are eligible to vote\")\n",
    "else:\n",
    "    print(\"You are not eligible to vote\")\n"
   ]
  },
  {
   "cell_type": "raw",
   "id": "a4b4eb30-a460-417e-924a-eec50932e4a5",
   "metadata": {},
   "source": [
    "iv.Check if a temperature is hot or cold"
   ]
  },
  {
   "cell_type": "code",
   "execution_count": 16,
   "id": "f618c5b2-5d7c-45a5-8b44-5af6e0270736",
   "metadata": {},
   "outputs": [
    {
     "name": "stdout",
     "output_type": "stream",
     "text": [
      "It's hot outside\n"
     ]
    }
   ],
   "source": [
    "temp1 = 30\n",
    "if temp1 > 25:\n",
    "    print(\"It's hot outside\")\n",
    "else:\n",
    "    print(\"It's cold outside\")\n"
   ]
  },
  {
   "cell_type": "raw",
   "id": "f987bf3c-132b-4512-9df0-687dc00e561c",
   "metadata": {},
   "source": [
    "v.Check the grade of a student"
   ]
  },
  {
   "cell_type": "code",
   "execution_count": 15,
   "id": "96911130-3bae-4dcd-9fba-5ff69fd76af3",
   "metadata": {},
   "outputs": [
    {
     "name": "stdout",
     "output_type": "stream",
     "text": [
      "Grade: B or lower\n"
     ]
    }
   ],
   "source": [
    "marks = 88\n",
    "if marks >= 90:\n",
    "    print(\"Grade: A\")\n",
    "else:\n",
    "    print(\"Grade: B or lower\")\n"
   ]
  },
  {
   "cell_type": "markdown",
   "id": "90c73b15-e222-4e18-95b6-bd2641ca57b1",
   "metadata": {},
   "source": [
    "#### Example of if-elif-else:"
   ]
  },
  {
   "cell_type": "markdown",
   "id": "cc2ba3f3-3b5c-4276-a143-5e82b2e8291f",
   "metadata": {},
   "source": [
    "* if Statement: The program evaluates a condition. If it's true, the code block under the if is executed.\n",
    "* elif Statement (optional): Stands for \"else if.\" It checks additional conditions if the previous if or elif was false.\n",
    "* else Statement (optional): Executes a block of code if none of the if or elif conditions are true."
   ]
  },
  {
   "cell_type": "raw",
   "id": "37f012c5-a40f-403f-9d5f-67d6c1ca111d",
   "metadata": {},
   "source": [
    "Syntax:\n",
    "if condition1:\n",
    "    # Code block for condition1\n",
    "elif condition2:\n",
    "    # Code block for condition2\n",
    "else:\n",
    "    # Code block if all conditions are false\n"
   ]
  },
  {
   "cell_type": "raw",
   "id": "6a752073-02cd-4634-a351-f0bb3d3d7c2b",
   "metadata": {},
   "source": [
    "i.Check Temperature"
   ]
  },
  {
   "cell_type": "code",
   "execution_count": 18,
   "id": "d25f36b4-874e-4145-ac13-bea1619368f4",
   "metadata": {},
   "outputs": [
    {
     "name": "stdout",
     "output_type": "stream",
     "text": [
      "It's cool\n"
     ]
    }
   ],
   "source": [
    "temperature = 20\n",
    "\n",
    "if temperature > 30:\n",
    "    print(\"It's hot\")\n",
    "elif temperature > 20:\n",
    "    print(\"It's warm\")\n",
    "elif temperature > 10:\n",
    "    print(\"It's cool\")\n",
    "else:\n",
    "    print(\"It's cold\")\n"
   ]
  },
  {
   "cell_type": "raw",
   "id": "67e6c8e4-76ed-43b7-bb4a-292e2d07216d",
   "metadata": {},
   "source": [
    "ii. Find the Largest Number"
   ]
  },
  {
   "cell_type": "code",
   "execution_count": 20,
   "id": "e822f149-48fa-4c16-899c-80836ace6752",
   "metadata": {},
   "outputs": [
    {
     "name": "stdout",
     "output_type": "stream",
     "text": [
      "b is the largest\n"
     ]
    }
   ],
   "source": [
    "a = 100\n",
    "b = 200\n",
    "c = 150\n",
    "\n",
    "if a > b and a > c:\n",
    "    print(\"a is the largest\")\n",
    "elif b > a and b > c:\n",
    "    print(\"b is the largest\")\n",
    "else:\n",
    "    print(\"c is the largest\")\n"
   ]
  },
  {
   "cell_type": "raw",
   "id": "896b7b06-15c8-4ba5-973d-136b1ec42e32",
   "metadata": {},
   "source": [
    "iii.Determine the Day of the Week"
   ]
  },
  {
   "cell_type": "code",
   "execution_count": 21,
   "id": "423291a1-8d09-4b52-9624-381ca46576b8",
   "metadata": {},
   "outputs": [
    {
     "name": "stdout",
     "output_type": "stream",
     "text": [
      "Wednesday\n"
     ]
    }
   ],
   "source": [
    "day = 3\n",
    "\n",
    "if day == 1:\n",
    "    print(\"Monday\")\n",
    "elif day == 2:\n",
    "    print(\"Tuesday\")\n",
    "elif day == 3:\n",
    "    print(\"Wednesday\")\n",
    "elif day == 4:\n",
    "    print(\"Thursday\")\n",
    "elif day == 5:\n",
    "    print(\"Friday\")\n",
    "elif day == 6:\n",
    "    print(\"Saturday\")\n",
    "else:\n",
    "    print(\"Sunday\")\n"
   ]
  },
  {
   "cell_type": "raw",
   "id": "a228aece-7905-419d-af9d-c88afd5b72e4",
   "metadata": {},
   "source": [
    "iv.Check Number Type"
   ]
  },
  {
   "cell_type": "code",
   "execution_count": 22,
   "id": "efb8a9b2-21f0-4931-8386-913ec86518b3",
   "metadata": {},
   "outputs": [
    {
     "name": "stdout",
     "output_type": "stream",
     "text": [
      "The number is zero\n"
     ]
    }
   ],
   "source": [
    "number = 0\n",
    "\n",
    "if number > 0:\n",
    "    print(\"The number is positive\")\n",
    "elif number < 0:\n",
    "    print(\"The number is negative\")\n",
    "else:\n",
    "    print(\"The number is zero\")\n"
   ]
  },
  {
   "cell_type": "raw",
   "id": "6e4149e5-1551-4e71-be9d-8dee9e553456",
   "metadata": {},
   "source": [
    "v.Determine Discount Based on Age"
   ]
  },
  {
   "cell_type": "code",
   "execution_count": 23,
   "id": "115afec2-3b55-4d3a-b858-475c83985f67",
   "metadata": {},
   "outputs": [
    {
     "name": "stdout",
     "output_type": "stream",
     "text": [
      "You get a senior citizen discount\n"
     ]
    }
   ],
   "source": [
    "age = 65\n",
    "\n",
    "if age < 18:\n",
    "    print(\"You get a child discount\")\n",
    "elif age >= 60:\n",
    "    print(\"You get a senior citizen discount\")\n",
    "else:\n",
    "    print(\"No discount available\")\n"
   ]
  },
  {
   "cell_type": "code",
   "execution_count": null,
   "id": "a1763602-f0de-46c0-b150-1b3f448344da",
   "metadata": {},
   "outputs": [],
   "source": []
  }
 ],
 "metadata": {
  "kernelspec": {
   "display_name": "Python 3 (ipykernel)",
   "language": "python",
   "name": "python3"
  },
  "language_info": {
   "codemirror_mode": {
    "name": "ipython",
    "version": 3
   },
   "file_extension": ".py",
   "mimetype": "text/x-python",
   "name": "python",
   "nbconvert_exporter": "python",
   "pygments_lexer": "ipython3",
   "version": "3.11.7"
  }
 },
 "nbformat": 4,
 "nbformat_minor": 5
}
