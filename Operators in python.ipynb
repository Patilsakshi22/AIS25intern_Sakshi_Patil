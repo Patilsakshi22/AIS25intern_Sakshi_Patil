{
 "cells": [
  {
   "cell_type": "markdown",
   "id": "1cfdb509-f8a5-493a-b1ec-55edbe778d9c",
   "metadata": {},
   "source": [
    "## 1)Arithmetic operators:"
   ]
  },
  {
   "cell_type": "raw",
   "id": "6cd6f972-08cc-4c3e-b4b3-f4ac7fc2f307",
   "metadata": {},
   "source": [
    "Arithmetic operators(+,-,*,/,//,%,**)"
   ]
  },
  {
   "cell_type": "markdown",
   "id": "b8e2009c-3121-45af-ab51-289ed2c0e709",
   "metadata": {},
   "source": [
    "* i.Addition(+)\n",
    "* ii.Subtraction(-)\n",
    "* iii.Multiplication(*)\n",
    "* iv.Division(/)\n",
    "* v.Floor Division(//)\n",
    "* vi.Modulus(%)\n",
    "* vii.Exponentiation(**)"
   ]
  },
  {
   "cell_type": "code",
   "execution_count": 5,
   "id": "7a12fe2c-1869-4e44-b225-360d92a29b3e",
   "metadata": {},
   "outputs": [],
   "source": [
    "a=5\n",
    "b=2"
   ]
  },
  {
   "cell_type": "code",
   "execution_count": 6,
   "id": "bd9c58e6-cf43-48d7-b603-3c91343060eb",
   "metadata": {},
   "outputs": [
    {
     "name": "stdout",
     "output_type": "stream",
     "text": [
      "7\n",
      "3\n",
      "10\n",
      "2.5\n",
      "2\n",
      "1\n",
      "25\n"
     ]
    }
   ],
   "source": [
    "print(a+b) # performs addition\n",
    "print(a-b) # performs subtraction\n",
    "print(a*b) # performs multiplication\n",
    "print(a/b) # performs division\n",
    "print(a//b) # performs floor division & return result in integer type\n",
    "print(a%b) # It gives reminder\n",
    "print(a**b) # used to find out raise to"
   ]
  },
  {
   "cell_type": "markdown",
   "id": "0be77c06-aa0b-4cb9-a02a-77e2f356f389",
   "metadata": {},
   "source": [
    "## 2)Comparison operators:"
   ]
  },
  {
   "cell_type": "raw",
   "id": "3fdb8eeb-408a-4637-b482-ed9f803a1362",
   "metadata": {},
   "source": [
    "Comparison operators(<,>,<=,>=,==,!=)"
   ]
  },
  {
   "cell_type": "markdown",
   "id": "c05a6842-1ef0-4b2c-85b3-64b54988fcea",
   "metadata": {},
   "source": [
    "* Comparison operators are nothing but the operators used to compare between two values.\n",
    "* Comparison operators return result in boolean type i.e true & false."
   ]
  },
  {
   "cell_type": "markdown",
   "id": "6da299a5-3656-4260-9166-30cc0b196668",
   "metadata": {},
   "source": [
    "* i.Less than(<)\n",
    "* ii.Greater than(>)\n",
    "* iii.Less than or equal to(<=)\n",
    "* iv.Greater than or equal to(>=)\n",
    "* v.Equal to Equal to(==)\n",
    "* vi.Not equal to(!=)"
   ]
  },
  {
   "cell_type": "code",
   "execution_count": 9,
   "id": "2511aac5-aa0e-4b5f-9d50-0d6a929a4420",
   "metadata": {},
   "outputs": [],
   "source": [
    "x=20\n",
    "y=2"
   ]
  },
  {
   "cell_type": "code",
   "execution_count": 10,
   "id": "6a8f3adc-1f7a-4892-87f5-07cbc067584a",
   "metadata": {},
   "outputs": [
    {
     "name": "stdout",
     "output_type": "stream",
     "text": [
      "False\n",
      "True\n",
      "False\n",
      "True\n",
      "False\n",
      "True\n"
     ]
    }
   ],
   "source": [
    "print(x<y) ## check one value is less than other and return result in true or false\n",
    "print(x>y) ## check one value is Greater than other and return result in true or false\n",
    "print(x<=y) ## check one value is less than or equal to other and return result in true or false\n",
    "print(x>=y) ## check one value is greater than other and return result in true or false\n",
    "print(x==y) ## check one value is equal to  other and return result in true or false\n",
    "print(x!=y) ## check one value is not equal to other and return result in true or false"
   ]
  },
  {
   "cell_type": "code",
   "execution_count": 11,
   "id": "b2e89aed-b168-4d48-843f-b1176c1d9a6d",
   "metadata": {},
   "outputs": [],
   "source": [
    "g=70\n",
    "s=70"
   ]
  },
  {
   "cell_type": "code",
   "execution_count": 12,
   "id": "5ef658e6-9b96-4f2f-a303-cc0626ac56f5",
   "metadata": {},
   "outputs": [
    {
     "name": "stdout",
     "output_type": "stream",
     "text": [
      "False\n",
      "False\n",
      "True\n",
      "True\n",
      "True\n",
      "False\n"
     ]
    }
   ],
   "source": [
    "print(g<s) ## check one value is less than other and return result in true or false\n",
    "print(g>s) ## check one value is Greater than other and return result in true or false\n",
    "print(g<=s) ## check one value is less than or equal to other and return result in true or false\n",
    "print(g>=s) ## check one value is greater than other and return result in true or false\n",
    "print(g==s) ## check one value is equal to  other and return result in true or false\n",
    "print(g!=s) ## check one value is not equal to other and return result in true or false"
   ]
  },
  {
   "cell_type": "markdown",
   "id": "6064837a-22ee-47a8-b76a-608152c3df85",
   "metadata": {},
   "source": [
    "## 3)Logical operators:"
   ]
  },
  {
   "cell_type": "raw",
   "id": "1f0b14a5-75d2-42c6-bfc3-d781628fc22e",
   "metadata": {},
   "source": [
    "Logical operators(and ,or,not)"
   ]
  },
  {
   "cell_type": "markdown",
   "id": "a7287fce-e797-4433-9bd5-c3086d30223b",
   "metadata": {},
   "source": [
    "* Logical operators are used to combine conditional statements. \n",
    "* Logical operators evaluate expression to return a boolean result.\n",
    "* Logical operators are as follows-and,or,not."
   ]
  },
  {
   "cell_type": "code",
   "execution_count": 13,
   "id": "d0d0a626-58ce-40ea-9feb-29906ae47311",
   "metadata": {},
   "outputs": [],
   "source": [
    "a=20\n",
    "b=30"
   ]
  },
  {
   "cell_type": "markdown",
   "id": "4353c3c4-4e03-4a36-aeca-39ad089aeafe",
   "metadata": {},
   "source": [
    "#### i)and:"
   ]
  },
  {
   "cell_type": "raw",
   "id": "430393e5-d8cd-48af-b6aa-b87e12624497",
   "metadata": {},
   "source": [
    "It Returns True if both conditions are true ow returns false"
   ]
  },
  {
   "cell_type": "code",
   "execution_count": 14,
   "id": "439ab06c-5548-4a90-83e9-260f33a62668",
   "metadata": {},
   "outputs": [
    {
     "name": "stdout",
     "output_type": "stream",
     "text": [
      "False\n"
     ]
    }
   ],
   "source": [
    "print(a>25 and b>25)"
   ]
  },
  {
   "cell_type": "code",
   "execution_count": 16,
   "id": "a6fe3e0b-3d5b-45e1-a0ae-c8854586ce1d",
   "metadata": {},
   "outputs": [
    {
     "name": "stdout",
     "output_type": "stream",
     "text": [
      "True\n"
     ]
    }
   ],
   "source": [
    "print(a<30 and b>20)"
   ]
  },
  {
   "cell_type": "markdown",
   "id": "524bfca4-5498-43a0-ad8c-e9af0092bf6b",
   "metadata": {},
   "source": [
    "#### ii)or:"
   ]
  },
  {
   "cell_type": "raw",
   "id": "d1196e77-70b5-4122-9053-67b6e7ae4d47",
   "metadata": {},
   "source": [
    "It Returns True if atleast one operand is true ow returns false if both operands are false."
   ]
  },
  {
   "cell_type": "code",
   "execution_count": 18,
   "id": "28bb5c26-4c4c-42cc-a2b9-1873897afece",
   "metadata": {},
   "outputs": [
    {
     "name": "stdout",
     "output_type": "stream",
     "text": [
      "True\n"
     ]
    }
   ],
   "source": [
    "print(a>28 or b>25)"
   ]
  },
  {
   "cell_type": "code",
   "execution_count": 19,
   "id": "9e58b15b-3dcc-455d-9cb4-0692dad74b02",
   "metadata": {},
   "outputs": [
    {
     "name": "stdout",
     "output_type": "stream",
     "text": [
      "False\n"
     ]
    }
   ],
   "source": [
    "print(a>30 or b>45)"
   ]
  },
  {
   "cell_type": "markdown",
   "id": "32e71524-02cc-4c3f-ac7a-448c6667f863",
   "metadata": {},
   "source": [
    "#### iii.not:"
   ]
  },
  {
   "cell_type": "raw",
   "id": "3463963e-ece2-4f4f-8e96-caf9d74908c6",
   "metadata": {},
   "source": [
    "It gives reverse the result of boolean expression and if expression is true it returns false and vice versa."
   ]
  },
  {
   "cell_type": "code",
   "execution_count": 20,
   "id": "f703ec68-4299-40a8-b86c-26b90c346d16",
   "metadata": {},
   "outputs": [
    {
     "name": "stdout",
     "output_type": "stream",
     "text": [
      "True\n"
     ]
    }
   ],
   "source": [
    "print(not(a>30))"
   ]
  },
  {
   "cell_type": "code",
   "execution_count": 22,
   "id": "dea530dd-7c17-498f-a0a2-1f8238648036",
   "metadata": {},
   "outputs": [
    {
     "name": "stdout",
     "output_type": "stream",
     "text": [
      "False\n"
     ]
    }
   ],
   "source": [
    "print(not(b>20))"
   ]
  },
  {
   "cell_type": "markdown",
   "id": "0ac23b79-94f4-441a-a067-6c7de989138b",
   "metadata": {},
   "source": [
    "## 4)Assignment operators:"
   ]
  },
  {
   "cell_type": "raw",
   "id": "c36a7ef5-d582-4fca-8866-e5c6a1ffdd84",
   "metadata": {},
   "source": [
    "Assignment operators(+=,-=,*=,/=)"
   ]
  },
  {
   "cell_type": "markdown",
   "id": "71489415-bba6-4e73-9cea-e99a752c3389",
   "metadata": {},
   "source": [
    "#### i.add and assign"
   ]
  },
  {
   "cell_type": "raw",
   "id": "24df227c-e64c-41e1-8550-294dd597b9fe",
   "metadata": {},
   "source": [
    "It performs addition on the variable and a value the result back to the same variable."
   ]
  },
  {
   "cell_type": "code",
   "execution_count": 2,
   "id": "d97703fa-b487-4b88-9118-0215105f5873",
   "metadata": {},
   "outputs": [
    {
     "data": {
      "text/plain": [
       "20"
      ]
     },
     "execution_count": 2,
     "metadata": {},
     "output_type": "execute_result"
    }
   ],
   "source": [
    "a=20\n",
    "a"
   ]
  },
  {
   "cell_type": "code",
   "execution_count": 3,
   "id": "1a9cbc72-8c2c-4a4c-99e3-9741ace44484",
   "metadata": {},
   "outputs": [
    {
     "name": "stdout",
     "output_type": "stream",
     "text": [
      "22\n"
     ]
    }
   ],
   "source": [
    "a+=2\n",
    "print(a)"
   ]
  },
  {
   "cell_type": "markdown",
   "id": "a49a3b74-7a20-4bf9-9748-0690ac2883d3",
   "metadata": {},
   "source": [
    "#### ii.substract and assign"
   ]
  },
  {
   "cell_type": "raw",
   "id": "183d7387-2841-4306-9b46-0c570ce5452e",
   "metadata": {},
   "source": [
    "It performs substraction on the variable and a value the result back to the same variable."
   ]
  },
  {
   "cell_type": "code",
   "execution_count": 11,
   "id": "132d5ae1-312c-4de7-97c5-341ef79889bf",
   "metadata": {},
   "outputs": [],
   "source": [
    "b=3"
   ]
  },
  {
   "cell_type": "code",
   "execution_count": 12,
   "id": "bd97af1a-5c84-4b48-a586-a1e0972cbaac",
   "metadata": {},
   "outputs": [
    {
     "data": {
      "text/plain": [
       "-7"
      ]
     },
     "execution_count": 12,
     "metadata": {},
     "output_type": "execute_result"
    }
   ],
   "source": [
    "b-=10\n",
    "b"
   ]
  },
  {
   "cell_type": "markdown",
   "id": "bb906a34-47a4-48ed-9007-ed8593638e36",
   "metadata": {},
   "source": [
    "#### iii.multiply and assign"
   ]
  },
  {
   "cell_type": "raw",
   "id": "1784bc53-dad8-4fa9-a6c5-f49cb4f6eb54",
   "metadata": {},
   "source": [
    "It performs multiplication on the variable and a value the result back to the same variable."
   ]
  },
  {
   "cell_type": "code",
   "execution_count": 17,
   "id": "c6e264c5-bbaf-43bf-bccb-c85b4124ec66",
   "metadata": {},
   "outputs": [
    {
     "data": {
      "text/plain": [
       "3"
      ]
     },
     "execution_count": 17,
     "metadata": {},
     "output_type": "execute_result"
    }
   ],
   "source": [
    "d=3\n",
    "d"
   ]
  },
  {
   "cell_type": "code",
   "execution_count": 14,
   "id": "54904835-d080-4883-8f1a-acd3fb9a1b04",
   "metadata": {},
   "outputs": [
    {
     "data": {
      "text/plain": [
       "12"
      ]
     },
     "execution_count": 14,
     "metadata": {},
     "output_type": "execute_result"
    }
   ],
   "source": [
    "d*=4\n",
    "d"
   ]
  },
  {
   "cell_type": "markdown",
   "id": "918244f7-a59d-4a05-a7c3-82761e5eaae2",
   "metadata": {},
   "source": [
    "#### iii.divide and assign"
   ]
  },
  {
   "cell_type": "raw",
   "id": "8a226780-d7de-4a37-a84a-3f2420f76295",
   "metadata": {},
   "source": [
    "It performs division on the variable and a value the result back to the same variable."
   ]
  },
  {
   "cell_type": "code",
   "execution_count": 16,
   "id": "8e0c8c02-c2a5-4f37-9ba5-27f797272296",
   "metadata": {},
   "outputs": [
    {
     "data": {
      "text/plain": [
       "5"
      ]
     },
     "execution_count": 16,
     "metadata": {},
     "output_type": "execute_result"
    }
   ],
   "source": [
    "x=5\n",
    "x"
   ]
  },
  {
   "cell_type": "code",
   "execution_count": 18,
   "id": "69665dc8-143a-4eca-a917-5464a177f9bd",
   "metadata": {},
   "outputs": [
    {
     "data": {
      "text/plain": [
       "2.5"
      ]
     },
     "execution_count": 18,
     "metadata": {},
     "output_type": "execute_result"
    }
   ],
   "source": [
    "x/=2\n",
    "x"
   ]
  }
 ],
 "metadata": {
  "kernelspec": {
   "display_name": "Python 3 (ipykernel)",
   "language": "python",
   "name": "python3"
  },
  "language_info": {
   "codemirror_mode": {
    "name": "ipython",
    "version": 3
   },
   "file_extension": ".py",
   "mimetype": "text/x-python",
   "name": "python",
   "nbconvert_exporter": "python",
   "pygments_lexer": "ipython3",
   "version": "3.11.7"
  }
 },
 "nbformat": 4,
 "nbformat_minor": 5
}
