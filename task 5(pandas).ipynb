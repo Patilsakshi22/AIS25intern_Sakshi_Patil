{
 "cells": [
  {
   "cell_type": "markdown",
   "id": "f11ddd4c-ae2b-46f5-aabe-7378fc8a0835",
   "metadata": {},
   "source": [
    "# Python Pandas:"
   ]
  },
  {
   "cell_type": "markdown",
   "id": "3c7cc41e-f98b-4b8c-afbd-732a2d361fae",
   "metadata": {},
   "source": [
    "Pandas is a powerful data manipulation and analysis library for Python. It provides data structures like series and dataframes to effectively easily clean, transform, and analyze large datasets and integrates seamlessly with other python libraries, such as numPy and matplotlib. It offers powerful functions for data transformation, aggregation, and visualization, which are crucial for effective analysis.\n",
    "\n",
    "Pandas revolves around two primary data structures: series (1D) for single columns and dataframe (2D) for tabular data, enabling efficient data manipulation.\n",
    "\n",
    "Section 1: Installing and Importing Pandas\n",
    "To install Pandas, run the following command:\n",
    "\n",
    "pip install pandas\n",
    "\n",
    "\n",
    "To use Pandas in your code, import it with:\n",
    "\n",
    "import pandas as pd\n",
    "\n",
    "\n",
    "This imports the Pandas library and gives it the alias pd for convenience."
   ]
  },
  {
   "cell_type": "markdown",
   "id": "1482cd34-9a08-453b-bc20-99bb3fa0dc64",
   "metadata": {},
   "source": [
    "### Key Data Structures:\n",
    "* Series: 1D labeled array.\n",
    "* DataFrame: 2D labeled table."
   ]
  },
  {
   "cell_type": "markdown",
   "id": "90d5052f-926b-4d8c-a43c-2f5627d6cc30",
   "metadata": {},
   "source": [
    "* Series in Pandas is 1-dimensional labeled array capable of holding any data type (integers, strings, floats, etc.). Each element is associated with an index, either default (0, 1, 2…) or custom labels. It can be created from lists, NumPy arrays, dictionaries, or scalar values.\n",
    "* DataFrame is a two-dimensional table-like data structure with labeled rows and columns, where each column can have a different data type (e.g., integers, strings, floats). It can be created from Python data structures like lists, dictionaries, or a list of dictionaries."
   ]
  },
  {
   "cell_type": "markdown",
   "id": "d9ec4ba0-470d-49e9-aba9-6f5c6baddd5a",
   "metadata": {},
   "source": [
    "### Creating Data Structures:\n",
    "* pd.DataFrame():\n",
    "      Pandas DataFrame will be created by loading the datasets from existing storage, storage can be SQL Database, CSV file, and Excel file. Pandas DataFrame can be created from the lists, dictionary, and from a list of dictionary etc.\n",
    "  A Dataframe is a two-dimensional data structure, i.e., data is aligned in a tabular fashion in rows and columns. In dataframe datasets arrange in rows and columns, we can store any number of datasets in a dataframe. We can perform many operations on these datasets like arithmetic operation, columns/rows selection, columns/rows addition etc.Pandas DataFrame can be created in multiple ways. Let’s discuss different ways to create a DataFrame one by one.\n",
    "* pd.Series():\n",
    "      Pandas Series is a one-dimensional labeled array capable of holding data of any type (integer, string, float, python objects, etc.).\n",
    "      "
   ]
  },
  {
   "cell_type": "markdown",
   "id": "2fd450b1-7fc7-4292-af26-ecf0ddf942ea",
   "metadata": {},
   "source": [
    "### Creating an empty dataframe : \n",
    "A basic DataFrame, which can be created is an Empty Dataframe. An Empty Dataframe is created just by calling a dataframe constructor. "
   ]
  },
  {
   "cell_type": "code",
   "execution_count": 13,
   "id": "08f3e7f8-0c62-4e50-a217-12a0aed0f37b",
   "metadata": {},
   "outputs": [
    {
     "name": "stdout",
     "output_type": "stream",
     "text": [
      "Empty DataFrame\n",
      "Columns: []\n",
      "Index: []\n"
     ]
    }
   ],
   "source": [
    "# import pandas as pd\n",
    "import pandas as pd\n",
    " \n",
    "# Calling DataFrame constructor\n",
    "df = pd.DataFrame()\n",
    " \n",
    "print(df)"
   ]
  },
  {
   "cell_type": "code",
   "execution_count": 14,
   "id": "f000cab1-f085-4344-8ded-856bd5980b7d",
   "metadata": {},
   "outputs": [
    {
     "name": "stdout",
     "output_type": "stream",
     "text": [
      "  Name  Age\n",
      "0    A   29\n",
      "1    B   32\n",
      "2    C   35\n"
     ]
    }
   ],
   "source": [
    "# DataFrame from dict narray / lists \n",
    "# Create DataFrame using dictionary:\n",
    "import pandas as pd\n",
    "data = {'Name': ['A','B','C'],'Age': [29, 32, 35]}\n",
    "df = pd.DataFrame(data)\n",
    "print(df)"
   ]
  },
  {
   "cell_type": "code",
   "execution_count": 15,
   "id": "e5fcfbab-1423-44b8-a162-37c96186fe8f",
   "metadata": {},
   "outputs": [
    {
     "name": "stdout",
     "output_type": "stream",
     "text": [
      "        0\n",
      "0  orange\n",
      "1   white\n",
      "2  purple\n",
      "3   black\n",
      "4    pink\n",
      "5     red\n",
      "6   Green\n"
     ]
    }
   ],
   "source": [
    "# Creating a dataframe using List: \n",
    "# DataFrame can be created using a single list or a list of lists.\n",
    "\n",
    "# list of strings\n",
    "lst_color = ['orange', 'white', 'purple', 'black', 'pink', 'red', 'Green']\n",
    " \n",
    "# Calling DataFrame constructor on list\n",
    "df = pd.DataFrame(lst_color)\n",
    "print(df)"
   ]
  },
  {
   "cell_type": "markdown",
   "id": "2f78dfa2-fe70-4614-9422-f2bbfff9e6af",
   "metadata": {},
   "source": [
    "### Creating a Pandas Series:\n",
    "    Pandas Series will be created by loading the datasets from existing storage, storage can be SQL Database, CSV file, and Excel file. Pandas Series can be created from the lists, dictionary, and from a scalar value etc. Series can be created in different ways, here are some ways by which we create a series"
   ]
  },
  {
   "cell_type": "markdown",
   "id": "6eb09d8c-6a4d-4bbb-b9a2-c6a27441b5bf",
   "metadata": {},
   "source": [
    "### Creating a series from array:\n",
    "    In order to create a series from array, we have to import a numpy module and have to use array() function."
   ]
  },
  {
   "cell_type": "code",
   "execution_count": 16,
   "id": "99734cd3-3fbd-4cc4-adce-123e98e06532",
   "metadata": {},
   "outputs": [
    {
     "name": "stdout",
     "output_type": "stream",
     "text": [
      "0    a\n",
      "1    b\n",
      "2    c\n",
      "3    d\n",
      "dtype: object\n"
     ]
    }
   ],
   "source": [
    "import pandas as pd\n",
    "import numpy as np\n",
    "\n",
    "data1 = np.array(['a','b','c','d'])\n",
    "df = pd.Series(data1)\n",
    "print(df)"
   ]
  },
  {
   "cell_type": "markdown",
   "id": "41279108-c0e5-4d44-9425-c736782c6aa7",
   "metadata": {},
   "source": [
    "### Creating a series from Lists:\n",
    "In order to create a series from list, we have to first create a list after that we can create a series from list."
   ]
  },
  {
   "cell_type": "code",
   "execution_count": 17,
   "id": "043750e0-890d-4171-ae6c-69d2264879bd",
   "metadata": {},
   "outputs": [
    {
     "name": "stdout",
     "output_type": "stream",
     "text": [
      "0      orange\n",
      "1       white\n",
      "2      purple\n",
      "3       black\n",
      "4    bluepink\n",
      "5         red\n",
      "6       Green\n",
      "dtype: object\n"
     ]
    }
   ],
   "source": [
    "lst = ['orange', 'white', 'purple', 'black','blue' 'pink', 'red', 'Green']\n",
    "\n",
    "df = pd.Series(lst)\n",
    "print(df)"
   ]
  },
  {
   "cell_type": "markdown",
   "id": "817a3af8-adf7-4143-9ecd-9bacae3dcac3",
   "metadata": {},
   "source": [
    "## Data Operations\n",
    "Indexing & Slicing\n",
    "1. df['col']: Select a column by label.\n",
    "2. df.iloc[]: Select rows and columns by integer position.\n",
    "3. df.loc[]: Select rows and columns by label."
   ]
  },
  {
   "cell_type": "markdown",
   "id": "4652c2df-2490-4c79-967c-7d2d0017ae45",
   "metadata": {},
   "source": [
    "* Indexing in Pandas refers to process of accessing and selecting data from a Pandas DataFrame or Series. There are multiple ways to do this. We will cover how to to basic indexing, select specific columns , apply slicing, and use Boolean indexing to filter data efficiently.\n",
    "    \n",
    "* We can also select multiple columns by passing a list of column names. For example, you can select both the ‘Name’ and ‘Age’ columns by providing a list [‘Name’, ‘Age’]. When it comes to selecting rows: we can use .loc[] to select rows by label, meaning we refer to the row index or label directly. Alternatively, .iloc[] allows for position-based indexing, where we select rows by their integer positions.   \n"
   ]
  },
  {
   "cell_type": "code",
   "execution_count": 18,
   "id": "8a9ae14b-3d6d-40f2-b47c-879dd4237c03",
   "metadata": {},
   "outputs": [
    {
     "name": "stdout",
     "output_type": "stream",
     "text": [
      "0    27\n",
      "1    33\n",
      "2    35\n",
      "Name: Age, dtype: int64\n"
     ]
    }
   ],
   "source": [
    "# Basic Indexing ( Selecting a single column ) with use of [ ] operator:\n",
    "\n",
    "data = {'Name': ['A', 'B', 'C'],'Age': [27, 33, 35]}\n",
    "df = pd.DataFrame(data)\n",
    "\n",
    "# Select a single column\n",
    "age_column = df['Age']\n",
    "print(age_column)\n"
   ]
  },
  {
   "cell_type": "code",
   "execution_count": 19,
   "id": "0803d607-36d5-4d12-86ed-85bab29b2182",
   "metadata": {},
   "outputs": [
    {
     "name": "stdout",
     "output_type": "stream",
     "text": [
      "Row by label:\n",
      " Name     B\n",
      "Age     33\n",
      "Name: 1, dtype: object\n",
      "Row by position:\n",
      " Name     C\n",
      "Age     35\n",
      "Name: 2, dtype: object\n"
     ]
    }
   ],
   "source": [
    "# Using .loc[] to select rows by label\n",
    "row_by_label = df.loc[1]  # Selects the row with index label 1 (Bob's data)\n",
    "\n",
    "# Using .iloc[] to select rows by position\n",
    "row_by_position = df.iloc[2]  # Selects the second row (Bob's data)\n",
    "\n",
    "print(\"Row by label:\\n\", row_by_label)\n",
    "print(\"Row by position:\\n\", row_by_position)"
   ]
  },
  {
   "cell_type": "markdown",
   "id": "f783db19-fdee-4b01-8dce-5072f3a01b1a",
   "metadata": {},
   "source": [
    "## Data Cleaning\n",
    "1. .isnull(): Check for missing values.\n",
    "2. .dropna(): Remove rows or columns with missing values.\n",
    "3. .fillna(): Replace missing values with a specified value.\n"
   ]
  },
  {
   "cell_type": "markdown",
   "id": "27c89f82-d2ac-4bf7-a5f2-55cd18ce9796",
   "metadata": {},
   "source": [
    "### 1. Identifying Missing Data With Pandas using:\n",
    "\n",
    "* isnull(): Returns True where values are missing (NaN), and False where values are present.\n",
    "* notnull(): Returns True where ues are present, and False where they are missing."
   ]
  },
  {
   "cell_type": "code",
   "execution_count": 20,
   "id": "45a2e731-9cca-4c40-a6d6-c72cbec73ebb",
   "metadata": {},
   "outputs": [
    {
     "name": "stdout",
     "output_type": "stream",
     "text": [
      "    Col1   Col2\n",
      "0  False  False\n",
      "1  False   True\n",
      "2   True   True\n"
     ]
    }
   ],
   "source": [
    "df = pd.DataFrame({'Col1': [1, 2, np.nan],'Col2': [3, np.nan, np.nan]})\n",
    "\n",
    "# Check for missing values\n",
    "print(df.isnull())"
   ]
  },
  {
   "cell_type": "markdown",
   "id": "42cf6dc2-180d-4577-a506-84cb05519809",
   "metadata": {},
   "source": [
    "### 2. Dropping Missing Data With Pandas: \n",
    "    We can also remove rows or columns that contain missing values using .dropna().We can also use df.dropna(axis=1) to remove columns or df.dropna(subset=[‘Column1’, ‘Column2’]) to drop rows with missing values in specific columns."
   ]
  },
  {
   "cell_type": "code",
   "execution_count": 21,
   "id": "fcc9f472-f62b-490b-a266-5b60b4ae4e92",
   "metadata": {},
   "outputs": [
    {
     "name": "stdout",
     "output_type": "stream",
     "text": [
      "   Name   Age\n",
      "0  Amit  25.0\n"
     ]
    }
   ],
   "source": [
    "data = {'Name': ['Amit', 'udhava', None], 'Age': [25, None, 35]}\n",
    "df = pd.DataFrame(data)\n",
    "\n",
    "# Drop rows with missing values\n",
    "df_dropped = df.dropna()\n",
    "print(df_dropped)"
   ]
  },
  {
   "cell_type": "markdown",
   "id": "ad8c3743-6181-4fa5-9b72-ee43a59fe400",
   "metadata": {},
   "source": [
    "### 3. Filling Missing Data: \n",
    "    For Replace missing values with a specific value, fillna() is used. For example: you want to fill missing values with default value 0 you can perform it like : df.fillna(0)."
   ]
  },
  {
   "cell_type": "code",
   "execution_count": 22,
   "id": "870b7255-34cb-4467-acdf-df87c4c3e565",
   "metadata": {},
   "outputs": [
    {
     "name": "stdout",
     "output_type": "stream",
     "text": [
      "   Col1  Col2\n",
      "0   1.0   3.0\n",
      "1   2.0   NaN\n",
      "2   NaN   NaN\n"
     ]
    }
   ],
   "source": [
    "df = pd.DataFrame({'Col1': [1, 2, np.nan],'Col2': [3, np.nan, np.nan]})\n",
    "df.fillna(0)\n",
    "print(df)"
   ]
  },
  {
   "cell_type": "markdown",
   "id": "e4481d4b-ba09-4fc0-a85b-4389e9602dd5",
   "metadata": {},
   "source": [
    "### Renaming\n",
    "1. df.rename(): Rename columns or index labels.Renaming columns using the rename() method or by directly modifying the columns attribute.\n",
    "* Use rename() for selective renaming.\n",
    "* Use columns attribute for renaming all columns at once."
   ]
  },
  {
   "cell_type": "code",
   "execution_count": 23,
   "id": "32032c43-f957-4d17-8b5e-c9196e468882",
   "metadata": {},
   "outputs": [
    {
     "name": "stdout",
     "output_type": "stream",
     "text": [
      "   X  Y  Z\n",
      "0  1  4  7\n",
      "1  2  5  8\n",
      "2  3  6  9\n"
     ]
    }
   ],
   "source": [
    "df = pd.DataFrame({'A':[1,2,3],'B':[4,5,6],'C':[7,8,9]})\n",
    "\n",
    "# Renaming columns\n",
    "df.rename(columns={'A':'X','B':'Y','C':'Z'},inplace=True)\n",
    "print(df)"
   ]
  },
  {
   "cell_type": "markdown",
   "id": "4ca720ba-f3c6-401a-989e-6d2fc9f24edb",
   "metadata": {},
   "source": [
    "### Filtering:\n",
    "1. df[df['col'] > value]: Select rows where a condition is true.\n",
    "    For selecting and filtering the data after indexing: is about narrowing down the data by applying conditions to select only those rows or columns that meet certain criteria."
   ]
  },
  {
   "cell_type": "code",
   "execution_count": 24,
   "id": "b8e8ddf2-31dd-46a2-9a1e-7a9c0370b413",
   "metadata": {},
   "outputs": [
    {
     "name": "stdout",
     "output_type": "stream",
     "text": [
      "  Name  Age\n",
      "2  sam   35\n"
     ]
    }
   ],
   "source": [
    "data = {'Name': ['Aman', 'Ram', 'sam'],'Age': [25, 30, 35]}\n",
    "df = pd.DataFrame(data)\n",
    "\n",
    "# Filtering rows where Age is greater than 30\n",
    "filtered_df = df[df['Age'] > 30]\n",
    "print(filtered_df)"
   ]
  },
  {
   "cell_type": "markdown",
   "id": "10a9f3bd-e2db-4966-9248-38d026787c13",
   "metadata": {},
   "source": [
    "### Aggregation and Grouping\n",
    "1. df.groupby('col'): Group a DataFrame by a column.\n",
    "2. .sum(), .mean(), .count(): Perform aggregation operations.\n",
    "       Aggregation and grouping in Pandas are powerful tools for analyzing and summarizing data. Grouping allows to segment your data into categories, while aggregation performs operations (like sum, mean, or count) on these groups to derive insights. groupby() function is commonly used for grouping data, followed by aggregation methods like sum(), mean(), or custom functions for statistical analysis."
   ]
  },
  {
   "cell_type": "code",
   "execution_count": 25,
   "id": "02193bf3-f160-46da-bca9-b2480a8b4d5c",
   "metadata": {},
   "outputs": [
    {
     "name": "stdout",
     "output_type": "stream",
     "text": [
      "Sum:\n",
      "           Value\n",
      "Category       \n",
      "A            40\n",
      "B            60\n",
      "\n",
      "Mean:\n",
      " Category\n",
      "A    20.0\n",
      "B    30.0\n",
      "Name: Value, dtype: float64\n",
      "\n",
      "Aggregated:\n",
      "          Value      \n",
      "           sum  mean\n",
      "Category            \n",
      "A           40  20.0\n",
      "B           60  30.0\n"
     ]
    }
   ],
   "source": [
    "data = {'Category': ['A', 'B', 'A', 'B'], 'Value': [10, 20, 30, 40]}\n",
    "df = pd.DataFrame(data)\n",
    "\n",
    "# Group data by 'Category' and calculate the sum\n",
    "grouped_sum = df.groupby('Category').sum()\n",
    "print(\"Sum:\\n\", grouped_sum)\n",
    "\n",
    "# Compute the mean for each group\n",
    "grouped_mean = df.groupby('Category')['Value'].mean()\n",
    "print(\"\\nMean:\\n\", grouped_mean)\n",
    "\n",
    "# Aggregate using multiple functions\n",
    "grouped_agg = df.groupby('Category').agg(['sum', 'mean'])\n",
    "print(\"\\nAggregated:\\n\", grouped_agg)"
   ]
  },
  {
   "cell_type": "markdown",
   "id": "4b50595a-bc0f-4423-8b6a-c25a9d3aee9b",
   "metadata": {},
   "source": [
    "## Merging and Joining\n",
    "1. pd.merge(): Merge two DataFrames based on a common column.\n",
    "2. df.concat(): Concatenate two DataFrames.\n",
    "       "
   ]
  },
  {
   "cell_type": "markdown",
   "id": "66c96b29-cf53-43c6-9cd4-420ca885097c",
   "metadata": {},
   "source": [
    "This section covers techniques for combining multiple DataFrames or Series into a single DataFrame. These operations are essential for integrating datasets and can be performed in several ways:\n",
    "\n",
    "### 1. Merging DataFrames: \n",
    "    Combines data based on common column or index using functions like merge or join. There are 4 types of joins:\n",
    "\n",
    "Inner Join: Keep rows that match in both DataFrames.\n",
    "Left Join: Keep all rows from the left DataFrame and match data from the right.\n",
    "Right Join and Outer Join are similar but differ in data retention rules."
   ]
  },
  {
   "cell_type": "code",
   "execution_count": 26,
   "id": "856ff857-5ee2-422c-ae8a-9332ff6d3b14",
   "metadata": {},
   "outputs": [
    {
     "name": "stdout",
     "output_type": "stream",
     "text": [
      "\n",
      "Inner Merge (Intersection of Names):\n",
      "     Name  Age Country\n",
      "0  sneha   36      UK\n",
      "\n",
      "Outer Merge (Union of Names):\n",
      "       Name   Age Country\n",
      "0    aboli  25.0     NaN\n",
      "1    sneha  36.0      UK\n",
      "2   sakshi  32.0     NaN\n",
      "3   dipati   NaN     USA\n",
      "4  akansha   NaN  Canada\n"
     ]
    }
   ],
   "source": [
    "df1 = pd.DataFrame({'Name': ['aboli', 'sneha', 'sakshi'], \n",
    "                      'Age': [25, 36, 32]})\n",
    "\n",
    "df3 = pd.DataFrame({'Name': ['dipati', 'sneha', 'akansha'], \n",
    "                      'Country': ['USA', 'UK', 'Canada']})\n",
    "\n",
    "# Merging DataFrames on the 'Name' column (inner join)\n",
    "df_merged_inner = pd.merge(df1, df3, on='Name', how='inner')\n",
    "\n",
    "# Merging DataFrames with outer join\n",
    "df_merged_outer = pd.merge(df1, df3, on='Name', how='outer')\n",
    "\n",
    "print(\"\\nInner Merge (Intersection of Names):\\n\", df_merged_inner)\n",
    "print(\"\\nOuter Merge (Union of Names):\\n\", df_merged_outer)"
   ]
  },
  {
   "cell_type": "markdown",
   "id": "81e8d5fe-d6ce-4f74-97c6-9dc343103815",
   "metadata": {},
   "source": [
    "### 2. Concatenating Data:\n",
    "       Refers to stacking DataFrames either vertically (adding rows) or horizontally (adding columns). This can be achieved using the pd.concat() function. Let’s create two dataFrames and concatenate it with the original one:"
   ]
  },
  {
   "cell_type": "code",
   "execution_count": 27,
   "id": "71623145-f376-4097-b398-81bbc66564f8",
   "metadata": {},
   "outputs": [
    {
     "name": "stdout",
     "output_type": "stream",
     "text": [
      "Concatenated DataFrame:\n",
      "       Name  Years_Experience       Role\n",
      "0     Amit                 2    Manager\n",
      "1   Ganesh                 3    Analyst\n",
      "2      sam                 4  Developer\n",
      "3    Geeta                 6         HR\n",
      "4  Pranali                 5   Designer\n",
      "5   Rutuja                 3  Developer\n"
     ]
    }
   ],
   "source": [
    "data = {'Name': ['Amit', 'Ganesh', 'sam', 'Geeta'],'Years_Experience': [2, 3, 4, 6],'Role': ['Manager', 'Analyst', 'Developer', 'HR']}\n",
    "df = pd.DataFrame(data)\n",
    "\n",
    "# New DataFrame to concatenate\n",
    "new_data = {'Name': ['Pranali', 'Rutuja'],'Years_Experience': [5, 3],'Role': ['Designer', 'Developer']}\n",
    "new_df = pd.DataFrame(new_data)\n",
    "\n",
    "# Concatenate the original and new DataFrames along rows (axis=0)\n",
    "concatenated_df = pd.concat([df, new_df], axis=0, ignore_index=True)\n",
    "\n",
    "print(\"Concatenated DataFrame:\\n\", concatenated_df)"
   ]
  },
  {
   "cell_type": "markdown",
   "id": "8dc12582-ed2c-478d-b1a5-5585d4102047",
   "metadata": {},
   "source": [
    "### File I/O\n",
    "1. pd.read_csv(): Read a CSV file into a DataFrame.\n",
    "2. df.to_csv(): Write a DataFrame to a CSV file.\n",
    "3. pd.read_excel(): Read an Excel file into a DataFrame.\n",
    "4. df.to_excel(): Write a DataFrame to an Excel file.\n",
    "    "
   ]
  },
  {
   "cell_type": "markdown",
   "id": "1c231d7f-bfe0-4f0b-aa2e-486f19725eb9",
   "metadata": {},
   "source": [
    "### pd.read_csv():\n",
    "    CSV files are the Comma Separated Files. It allows users to load tabular data into a DataFrame, which is a powerful structure for data manipulation and analysis. To access data from the CSV file, we require a function read_csv() from Pandas that retrieves data in the form of the data frame. Here’s a quick example to get you started.\n",
    "\n",
    "Suppose you have a file named people.csv. First, we must import the Pandas library. then using Pandas load this data into a DataFrame as follows:"
   ]
  },
  {
   "cell_type": "code",
   "execution_count": 34,
   "id": "dd8ed323-d111-4c78-9e54-82d7620a0b44",
   "metadata": {},
   "outputs": [
    {
     "data": {
      "text/html": [
       "<div>\n",
       "<style scoped>\n",
       "    .dataframe tbody tr th:only-of-type {\n",
       "        vertical-align: middle;\n",
       "    }\n",
       "\n",
       "    .dataframe tbody tr th {\n",
       "        vertical-align: top;\n",
       "    }\n",
       "\n",
       "    .dataframe thead th {\n",
       "        text-align: right;\n",
       "    }\n",
       "</style>\n",
       "<table border=\"1\" class=\"dataframe\">\n",
       "  <thead>\n",
       "    <tr style=\"text-align: right;\">\n",
       "      <th></th>\n",
       "      <th>Name</th>\n",
       "      <th>Age</th>\n",
       "      <th>Country</th>\n",
       "    </tr>\n",
       "  </thead>\n",
       "  <tbody>\n",
       "    <tr>\n",
       "      <th>0</th>\n",
       "      <td>John</td>\n",
       "      <td>27</td>\n",
       "      <td>USA</td>\n",
       "    </tr>\n",
       "    <tr>\n",
       "      <th>1</th>\n",
       "      <td>Mary</td>\n",
       "      <td>31</td>\n",
       "      <td>UK</td>\n",
       "    </tr>\n",
       "    <tr>\n",
       "      <th>2</th>\n",
       "      <td>David</td>\n",
       "      <td>47</td>\n",
       "      <td>USA</td>\n",
       "    </tr>\n",
       "    <tr>\n",
       "      <th>3</th>\n",
       "      <td>Emily</td>\n",
       "      <td>28</td>\n",
       "      <td>Canada</td>\n",
       "    </tr>\n",
       "  </tbody>\n",
       "</table>\n",
       "</div>"
      ],
      "text/plain": [
       "    Name  Age Country\n",
       "0   John   27     USA\n",
       "1   Mary   31      UK\n",
       "2  David   47     USA\n",
       "3  Emily   28  Canada"
      ]
     },
     "execution_count": 34,
     "metadata": {},
     "output_type": "execute_result"
    }
   ],
   "source": [
    "# reading csv file \n",
    "df = pd.read_csv(\"people_data.csv\")\n",
    "df"
   ]
  },
  {
   "cell_type": "code",
   "execution_count": 41,
   "id": "0964fffa-f4b4-4277-8ec9-ed0a6fb4729a",
   "metadata": {},
   "outputs": [
    {
     "data": {
      "text/html": [
       "<div>\n",
       "<style scoped>\n",
       "    .dataframe tbody tr th:only-of-type {\n",
       "        vertical-align: middle;\n",
       "    }\n",
       "\n",
       "    .dataframe tbody tr th {\n",
       "        vertical-align: top;\n",
       "    }\n",
       "\n",
       "    .dataframe thead th {\n",
       "        text-align: right;\n",
       "    }\n",
       "</style>\n",
       "<table border=\"1\" class=\"dataframe\">\n",
       "  <thead>\n",
       "    <tr style=\"text-align: right;\">\n",
       "      <th></th>\n",
       "      <th>Name</th>\n",
       "      <th>Age</th>\n",
       "      <th>Country</th>\n",
       "    </tr>\n",
       "  </thead>\n",
       "  <tbody>\n",
       "    <tr>\n",
       "      <th>0</th>\n",
       "      <td>John</td>\n",
       "      <td>27</td>\n",
       "      <td>USA</td>\n",
       "    </tr>\n",
       "    <tr>\n",
       "      <th>1</th>\n",
       "      <td>Mary</td>\n",
       "      <td>31</td>\n",
       "      <td>UK</td>\n",
       "    </tr>\n",
       "    <tr>\n",
       "      <th>2</th>\n",
       "      <td>David</td>\n",
       "      <td>47</td>\n",
       "      <td>USA</td>\n",
       "    </tr>\n",
       "    <tr>\n",
       "      <th>3</th>\n",
       "      <td>Emily</td>\n",
       "      <td>28</td>\n",
       "      <td>Canada</td>\n",
       "    </tr>\n",
       "  </tbody>\n",
       "</table>\n",
       "</div>"
      ],
      "text/plain": [
       "    Name  Age Country\n",
       "0   John   27     USA\n",
       "1   Mary   31      UK\n",
       "2  David   47     USA\n",
       "3  Emily   28  Canada"
      ]
     },
     "execution_count": 41,
     "metadata": {},
     "output_type": "execute_result"
    }
   ],
   "source": [
    "# Write a DataFrame to a CSV file\n",
    "df.to_csv('people_data.csv', index=False)\n",
    "df"
   ]
  },
  {
   "cell_type": "markdown",
   "id": "1da90e30-a181-4a76-bd84-0c2b3dadbf33",
   "metadata": {},
   "source": [
    "### pd.read_excel():"
   ]
  },
  {
   "cell_type": "code",
   "execution_count": 44,
   "id": "8e48d121-5fbc-4093-9569-3ba8fe99e973",
   "metadata": {},
   "outputs": [
    {
     "data": {
      "text/html": [
       "<div>\n",
       "<style scoped>\n",
       "    .dataframe tbody tr th:only-of-type {\n",
       "        vertical-align: middle;\n",
       "    }\n",
       "\n",
       "    .dataframe tbody tr th {\n",
       "        vertical-align: top;\n",
       "    }\n",
       "\n",
       "    .dataframe thead th {\n",
       "        text-align: right;\n",
       "    }\n",
       "</style>\n",
       "<table border=\"1\" class=\"dataframe\">\n",
       "  <thead>\n",
       "    <tr style=\"text-align: right;\">\n",
       "      <th></th>\n",
       "      <th>First Name</th>\n",
       "      <th>Last Name</th>\n",
       "      <th>Sex</th>\n",
       "      <th>Email</th>\n",
       "      <th>Date of birth</th>\n",
       "      <th>Job Title</th>\n",
       "    </tr>\n",
       "  </thead>\n",
       "  <tbody>\n",
       "    <tr>\n",
       "      <th>0</th>\n",
       "      <td>Shelby</td>\n",
       "      <td>Terrell</td>\n",
       "      <td>Male</td>\n",
       "      <td>elijah57@example.net</td>\n",
       "      <td>1945-10-26</td>\n",
       "      <td>Games developer</td>\n",
       "    </tr>\n",
       "    <tr>\n",
       "      <th>1</th>\n",
       "      <td>Phillip</td>\n",
       "      <td>Summers</td>\n",
       "      <td>Female</td>\n",
       "      <td>bethany14@example.com</td>\n",
       "      <td>1910-03-24</td>\n",
       "      <td>Phytotherapist</td>\n",
       "    </tr>\n",
       "    <tr>\n",
       "      <th>2</th>\n",
       "      <td>Kristine</td>\n",
       "      <td>Travis</td>\n",
       "      <td>Male</td>\n",
       "      <td>bthompson@example.com</td>\n",
       "      <td>1992-07-02</td>\n",
       "      <td>Homeopath</td>\n",
       "    </tr>\n",
       "    <tr>\n",
       "      <th>3</th>\n",
       "      <td>Yesenia</td>\n",
       "      <td>Martinez</td>\n",
       "      <td>Male</td>\n",
       "      <td>kaitlinkaiser@example.com</td>\n",
       "      <td>2017-08-03</td>\n",
       "      <td>Market researcher</td>\n",
       "    </tr>\n",
       "    <tr>\n",
       "      <th>4</th>\n",
       "      <td>Lori</td>\n",
       "      <td>Todd</td>\n",
       "      <td>Male</td>\n",
       "      <td>buchananmanuel@example.net</td>\n",
       "      <td>1938-12-01</td>\n",
       "      <td>Veterinary surgeon</td>\n",
       "    </tr>\n",
       "  </tbody>\n",
       "</table>\n",
       "</div>"
      ],
      "text/plain": [
       "  First Name Last Name     Sex                       Email Date of birth  \\\n",
       "0     Shelby   Terrell    Male        elijah57@example.net    1945-10-26   \n",
       "1    Phillip   Summers  Female       bethany14@example.com    1910-03-24   \n",
       "2   Kristine    Travis    Male       bthompson@example.com    1992-07-02   \n",
       "3    Yesenia  Martinez    Male   kaitlinkaiser@example.com    2017-08-03   \n",
       "4       Lori      Todd    Male  buchananmanuel@example.net    1938-12-01   \n",
       "\n",
       "            Job Title  \n",
       "0     Games developer  \n",
       "1      Phytotherapist  \n",
       "2           Homeopath  \n",
       "3   Market researcher  \n",
       "4  Veterinary surgeon  "
      ]
     },
     "execution_count": 44,
     "metadata": {},
     "output_type": "execute_result"
    }
   ],
   "source": [
    "# Read an Excel file into a DataFrame\n",
    "df = pd.read_excel('people_data.xlsx')\n",
    "df\n",
    "# Write a DataFrame to an Excel file\n",
    "df.to_excel('people_data.xlsx', index=False)\n",
    "df"
   ]
  },
  {
   "cell_type": "markdown",
   "id": "f4474b89-8ce6-464d-985e-f53a28ebad22",
   "metadata": {},
   "source": [
    "# Time Series\n",
    "1. pd.to_datetime(): Convert a column to datetime format.\n",
    "2. .resample(): Resample a time series DataFrame.\n",
    "\n",
    "* When a CSV file is imported and a Data Frame is made, the Date time objects in the file are read as a string object rather than a Date Time object Hence it’s very tough to perform operations like Time difference on a string rather than a Date Time object. Pandas to_datetime() method helps to convert string Date time into Python Date time object.\n",
    "\n",
    "### Pandas.to_datetime() Syntax:\n",
    "\n",
    "Syntax: pandas.to_datetime(arg, errors=’raise’, dayfirst=False, yearfirst=False, utc=None, box=True, format=None, exact=True, unit=None, infer_datetime_format=False, origin=’unix’, cache=False)\n",
    "\n",
    "\n",
    "Parameters:\n",
    "\n",
    "\n",
    "\n",
    "arg: An integer, string, float, list or dict object to convert in to Date time object.\n",
    "\n",
    "dayfirst: Boolean value, places day first if True.\n",
    "\n",
    "yearfirst: Boolean value, places year first if True.\n",
    "\n",
    "utc: Boolean value, Returns time in UTC if True.\n",
    "\n",
    "format: String input to tell position of day, month and year."
   ]
  },
  {
   "cell_type": "code",
   "execution_count": 45,
   "id": "1d8a83a7-d15c-45d9-a4fc-4eadef364800",
   "metadata": {},
   "outputs": [
    {
     "name": "stdout",
     "output_type": "stream",
     "text": [
      "2025-01-31 13:19:00\n"
     ]
    }
   ],
   "source": [
    "# date string\n",
    "d_string = \"2025-01-31 13:19:00\"\n",
    " \n",
    "# Convert the string to datetime\n",
    "dt_obj = pd.to_datetime(d_string)\n",
    " \n",
    "print(dt_obj)"
   ]
  },
  {
   "cell_type": "code",
   "execution_count": 46,
   "id": "8c204900-4cab-46d3-973e-6c34db4c663d",
   "metadata": {},
   "outputs": [
    {
     "data": {
      "text/html": [
       "<div>\n",
       "<style scoped>\n",
       "    .dataframe tbody tr th:only-of-type {\n",
       "        vertical-align: middle;\n",
       "    }\n",
       "\n",
       "    .dataframe tbody tr th {\n",
       "        vertical-align: top;\n",
       "    }\n",
       "\n",
       "    .dataframe thead th {\n",
       "        text-align: right;\n",
       "    }\n",
       "</style>\n",
       "<table border=\"1\" class=\"dataframe\">\n",
       "  <thead>\n",
       "    <tr style=\"text-align: right;\">\n",
       "      <th></th>\n",
       "      <th>Date</th>\n",
       "    </tr>\n",
       "  </thead>\n",
       "  <tbody>\n",
       "    <tr>\n",
       "      <th>0</th>\n",
       "      <td>2025-01-01</td>\n",
       "    </tr>\n",
       "    <tr>\n",
       "      <th>1</th>\n",
       "      <td>2025-01-02</td>\n",
       "    </tr>\n",
       "    <tr>\n",
       "      <th>2</th>\n",
       "      <td>2025-01-03</td>\n",
       "    </tr>\n",
       "  </tbody>\n",
       "</table>\n",
       "</div>"
      ],
      "text/plain": [
       "         Date\n",
       "0  2025-01-01\n",
       "1  2025-01-02\n",
       "2  2025-01-03"
      ]
     },
     "execution_count": 46,
     "metadata": {},
     "output_type": "execute_result"
    }
   ],
   "source": [
    "# Create a DataFrame with a date column\n",
    "df1 = pd.DataFrame({'Date': ['2025-01-01', '2025-01-02', '2025-01-03']})\n",
    "df1\n",
    "# Convert the 'Date' column to datetime format\n",
    "#df['Date'] = pd.to_datetime(df['Date'])\n",
    "#df"
   ]
  },
  {
   "cell_type": "markdown",
   "id": "df86dbcb-ab55-4dd3-aabb-fb96868b5a7a",
   "metadata": {},
   "source": [
    "## Visualization\n",
    "1. df.plot(): Create a basic plot of a DataFrame.\n",
    "   "
   ]
  },
  {
   "cell_type": "code",
   "execution_count": 47,
   "id": "2df3f2c8-ebef-4390-900a-a28f6ec44349",
   "metadata": {},
   "outputs": [
    {
     "data": {
      "image/png": "[encoded data removed]",
      "text/plain": [
       "<Figure size 640x480 with 1 Axes>"
      ]
     },
     "metadata": {},
     "output_type": "display_data"
    }
   ],
   "source": [
    "import pandas as pd\n",
    "import matplotlib.pyplot as plt\n",
    "\n",
    "# Create a sample DataFrame\n",
    "df = pd.DataFrame({\n",
    "    'Month': ['Jan', 'Feb', 'Mar', 'Apr', 'May'],\n",
    "    'Sales': [100, 120, 150, 180, 200]\n",
    "})\n",
    "\n",
    "# Create a basic plot of the DataFrame\n",
    "df.plot(x='Month', y='Sales', kind='line')\n",
    "\n",
    "# Show the plot\n",
    "plt.show()"
   ]
  },
  {
   "cell_type": "markdown",
   "id": "ce910c4d-edd3-49f7-b6bb-deb197bdfe40",
   "metadata": {},
   "source": [
    "### Condition Selection\n",
    "1. And: Select rows where multiple conditions are true.\n",
    "2. Or: Select rows where at least one condition is true."
   ]
  },
  {
   "cell_type": "code",
   "execution_count": 40,
   "id": "ecb92047-81f3-4742-abb0-73141fcce320",
   "metadata": {},
   "outputs": [
    {
     "name": "stdout",
     "output_type": "stream",
     "text": [
      "    Name  Age Country\n",
      "2  David   47     USA\n",
      "    Name  Age Country\n",
      "0   John   27     USA\n",
      "1   Mary   31      UK\n",
      "2  David   47     USA\n"
     ]
    }
   ],
   "source": [
    "# Using And\n",
    "\n",
    "import pandas as pd\n",
    "\n",
    "# Create a sample DataFrame\n",
    "df = pd.DataFrame({\n",
    "    'Name': ['John', 'Mary', 'David', 'Emily'],\n",
    "    'Age': [27, 31, 47, 28],\n",
    "    'Country': ['USA', 'UK', 'USA', 'Canada']\n",
    "})\n",
    "\n",
    "# Select rows where Age > 30 and Country is 'USA'\n",
    "df_selected = df[(df['Age'] > 30) & (df['Country'] == 'USA')]\n",
    "\n",
    "print(df_selected)\n",
    "\n",
    "\n",
    "# Using Or\n",
    "import pandas as pd\n",
    "\n",
    "# Create a sample DataFrame\n",
    "df = pd.DataFrame({\n",
    "    'Name': ['John', 'Mary', 'David', 'Emily'],\n",
    "    'Age': [27, 31, 47, 28],\n",
    "    'Country': ['USA', 'UK', 'USA', 'Canada']\n",
    "})\n",
    "\n",
    "# Select rows where Age > 30 or Country is 'USA'\n",
    "df_selected = df[(df['Age'] > 30) | (df['Country'] == 'USA')]\n",
    "\n",
    "print(df_selected)"
   ]
  }
 ],
 "metadata": {
  "kernelspec": {
   "display_name": "Python 3 (ipykernel)",
   "language": "python",
   "name": "python3"
  },
  "language_info": {
   "codemirror_mode": {
    "name": "ipython",
    "version": 3
   },
   "file_extension": ".py",
   "mimetype": "text/x-python",
   "name": "python",
   "nbconvert_exporter": "python",
   "pygments_lexer": "ipython3",
   "version": "3.11.7"
  }
 },
 "nbformat": 4,
 "nbformat_minor": 5
}
