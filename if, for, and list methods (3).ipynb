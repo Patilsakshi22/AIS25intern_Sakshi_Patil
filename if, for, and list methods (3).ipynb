{
 "cells": [
  {
   "cell_type": "markdown",
   "id": "86e82884-13e4-4873-b020-517f12abd03f",
   "metadata": {},
   "source": [
    "### 1) Swap first and last element of the list"
   ]
  },
  {
   "cell_type": "code",
   "execution_count": 5,
   "id": "c7d4a24c-e6e8-4a04-92fd-d137b94d1822",
   "metadata": {},
   "outputs": [
    {
     "name": "stdout",
     "output_type": "stream",
     "text": [
      "List after swaping first and last elements: [50, 20, 30, 40, 10]\n"
     ]
    }
   ],
   "source": [
    "lst = [10, 20, 30, 40, 50]\n",
    "\n",
    "if len(lst) > 1:  \n",
    "    lst[0], lst[-1] = lst[-1], lst[0]  \n",
    "\n",
    "print(\"List after swaping first and last elements:\", lst)\n"
   ]
  },
  {
   "cell_type": "markdown",
   "id": "fba82e7b-0451-422e-8070-10f57ecb176f",
   "metadata": {},
   "source": [
    "### 2) Count the length of a string"
   ]
  },
  {
   "cell_type": "code",
   "execution_count": 3,
   "id": "07d1b412-cd48-44f2-99f8-80fa0ae7bd0c",
   "metadata": {},
   "outputs": [
    {
     "name": "stdout",
     "output_type": "stream",
     "text": [
      "Length of the string: 12\n"
     ]
    }
   ],
   "source": [
    "string = \"Hello, Word!\"\n",
    "count = 0\n",
    "for char in string:\n",
    "    count += 1\n",
    "\n",
    "print(\"Length of the string:\", count)\n"
   ]
  },
  {
   "cell_type": "markdown",
   "id": "156800b5-aa7a-4255-9dc4-13d8393b12f1",
   "metadata": {},
   "source": [
    "### 3) Sum of only non-negative integers in a list"
   ]
  },
  {
   "cell_type": "code",
   "execution_count": 7,
   "id": "e637bac1-e401-40bd-a5fb-6bf00ec17c6f",
   "metadata": {},
   "outputs": [
    {
     "name": "stdout",
     "output_type": "stream",
     "text": [
      "Sum of non-negative integers: 42\n"
     ]
    }
   ],
   "source": [
    "lst = [2, 20, -5, -10, 20]\n",
    "non_negative_sum = 0\n",
    "for num in lst:\n",
    "    if num >= 0: \n",
    "        non_negative_sum += num\n",
    "\n",
    "print(\"Sum of non-negative integers:\", non_negative_sum)\n"
   ]
  },
  {
   "cell_type": "markdown",
   "id": "682572d1-5e60-40b8-bff7-b497ca727e1e",
   "metadata": {},
   "source": [
    "### 4) Factorial of a number"
   ]
  },
  {
   "cell_type": "code",
   "execution_count": 20,
   "id": "e51f1189-0cbf-4de4-bcef-9b9b69302949",
   "metadata": {},
   "outputs": [
    {
     "name": "stdout",
     "output_type": "stream",
     "text": [
      "6\n"
     ]
    }
   ],
   "source": [
    "n = 4\n",
    "factorial = 1\n",
    "for i in range(1,n):\n",
    "    factorial *= i\n",
    "\n",
    "print(factorial)\n"
   ]
  },
  {
   "cell_type": "code",
   "execution_count": null,
   "id": "c979e5d3-3d21-40e1-b7b6-f024f9277c14",
   "metadata": {},
   "outputs": [],
   "source": []
  }
 ],
 "metadata": {
  "kernelspec": {
   "display_name": "Python 3 (ipykernel)",
   "language": "python",
   "name": "python3"
  },
  "language_info": {
   "codemirror_mode": {
    "name": "ipython",
    "version": 3
   },
   "file_extension": ".py",
   "mimetype": "text/x-python",
   "name": "python",
   "nbconvert_exporter": "python",
   "pygments_lexer": "ipython3",
   "version": "3.11.7"
  }
 },
 "nbformat": 4,
 "nbformat_minor": 5
}
