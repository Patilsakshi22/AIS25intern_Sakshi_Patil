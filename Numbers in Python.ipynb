{
 "cells": [
  {
   "cell_type": "markdown",
   "id": "fb56c546-72c1-45ca-8acd-67a8cc90f345",
   "metadata": {},
   "source": [
    "# 1.Numbers in python:"
   ]
  },
  {
   "cell_type": "markdown",
   "id": "e3f2aa45-22fd-459d-9072-3048ea10729e",
   "metadata": {},
   "source": [
    "* Types of Numbers-Integers,Floats,Complex number"
   ]
  },
  {
   "cell_type": "markdown",
   "id": "62b24cc1-a885-4a70-93ff-03841c49cae7",
   "metadata": {},
   "source": [
    "### i) Intergers:Whole Numbers"
   ]
  },
  {
   "cell_type": "code",
   "execution_count": 11,
   "id": "ecafd94a-e2cb-4f9b-b2eb-05c915d650de",
   "metadata": {},
   "outputs": [],
   "source": [
    "a=10\n",
    "b=-11\n",
    "c=0\n",
    "# intergers includes +ve value,-ve value and zero"
   ]
  },
  {
   "cell_type": "code",
   "execution_count": 12,
   "id": "8b34047d-f7b2-40e7-844b-8e1378c8928e",
   "metadata": {},
   "outputs": [
    {
     "name": "stdout",
     "output_type": "stream",
     "text": [
      "10\n"
     ]
    }
   ],
   "source": [
    "print(a)"
   ]
  },
  {
   "cell_type": "code",
   "execution_count": 13,
   "id": "d0dca9f6-bc70-476b-bc80-7aa80907218d",
   "metadata": {},
   "outputs": [
    {
     "data": {
      "text/plain": [
       "int"
      ]
     },
     "execution_count": 13,
     "metadata": {},
     "output_type": "execute_result"
    }
   ],
   "source": [
    "type(a)"
   ]
  },
  {
   "cell_type": "code",
   "execution_count": 14,
   "id": "f2adc136-4d6d-4eb4-8f27-f988b0db00ef",
   "metadata": {},
   "outputs": [
    {
     "data": {
      "text/plain": [
       "int"
      ]
     },
     "execution_count": 14,
     "metadata": {},
     "output_type": "execute_result"
    }
   ],
   "source": [
    "type(b)"
   ]
  },
  {
   "cell_type": "code",
   "execution_count": 29,
   "id": "e681b568-3e6f-4c40-bcdf-b1749dec7386",
   "metadata": {},
   "outputs": [
    {
     "data": {
      "text/plain": [
       "float"
      ]
     },
     "execution_count": 29,
     "metadata": {},
     "output_type": "execute_result"
    }
   ],
   "source": [
    "type(c)"
   ]
  },
  {
   "cell_type": "code",
   "execution_count": 31,
   "id": "fd08e63c-86b4-41bd-97d5-95896858b61d",
   "metadata": {},
   "outputs": [
    {
     "data": {
      "text/plain": [
       "1"
      ]
     },
     "execution_count": 31,
     "metadata": {},
     "output_type": "execute_result"
    }
   ],
   "source": [
    "int(True)"
   ]
  },
  {
   "cell_type": "code",
   "execution_count": 32,
   "id": "d8b358ea-c640-4c33-9abc-4f4b763954a6",
   "metadata": {},
   "outputs": [
    {
     "data": {
      "text/plain": [
       "0"
      ]
     },
     "execution_count": 32,
     "metadata": {},
     "output_type": "execute_result"
    }
   ],
   "source": [
    "int(False)"
   ]
  },
  {
   "cell_type": "markdown",
   "id": "7e5c7435-26ac-4b1e-9287-14f90e85ba6f",
   "metadata": {},
   "source": [
    "### ii) Floats:Decimal Numbers"
   ]
  },
  {
   "cell_type": "code",
   "execution_count": 21,
   "id": "c3c4c444-b481-4644-a641-53d3a818c0b8",
   "metadata": {},
   "outputs": [],
   "source": [
    "a=4.11\n",
    "b=-90.11\n",
    "c=4.0\n",
    "# Decimal numbers=point value includes of +ve values and -ve values"
   ]
  },
  {
   "cell_type": "code",
   "execution_count": 22,
   "id": "7822fbde-fe0a-4572-ba7d-4a031ee2da31",
   "metadata": {},
   "outputs": [
    {
     "data": {
      "text/plain": [
       "float"
      ]
     },
     "execution_count": 22,
     "metadata": {},
     "output_type": "execute_result"
    }
   ],
   "source": [
    "type(a)"
   ]
  },
  {
   "cell_type": "code",
   "execution_count": 23,
   "id": "27db4214-8f73-4318-b49c-0ed8373f3b08",
   "metadata": {},
   "outputs": [
    {
     "data": {
      "text/plain": [
       "float"
      ]
     },
     "execution_count": 23,
     "metadata": {},
     "output_type": "execute_result"
    }
   ],
   "source": [
    "type(b)"
   ]
  },
  {
   "cell_type": "code",
   "execution_count": 33,
   "id": "c80ba37d-ef05-48ec-a36f-7c93aa792242",
   "metadata": {},
   "outputs": [
    {
     "data": {
      "text/plain": [
       "float"
      ]
     },
     "execution_count": 33,
     "metadata": {},
     "output_type": "execute_result"
    }
   ],
   "source": [
    "type(c)"
   ]
  },
  {
   "cell_type": "code",
   "execution_count": 35,
   "id": "bb5991ac-2364-476e-81db-150602bc6b14",
   "metadata": {},
   "outputs": [
    {
     "data": {
      "text/plain": [
       "113.0"
      ]
     },
     "execution_count": 35,
     "metadata": {},
     "output_type": "execute_result"
    }
   ],
   "source": [
    "float(113)"
   ]
  },
  {
   "cell_type": "code",
   "execution_count": 36,
   "id": "aa869e12-393b-4406-853d-950536b8dc30",
   "metadata": {
    "scrolled": true
   },
   "outputs": [
    {
     "data": {
      "text/plain": [
       "1.0"
      ]
     },
     "execution_count": 36,
     "metadata": {},
     "output_type": "execute_result"
    }
   ],
   "source": [
    "float(True)"
   ]
  },
  {
   "cell_type": "code",
   "execution_count": 37,
   "id": "e3452e26-8506-4064-9fbd-62bcb9a1db54",
   "metadata": {},
   "outputs": [
    {
     "data": {
      "text/plain": [
       "0.0"
      ]
     },
     "execution_count": 37,
     "metadata": {},
     "output_type": "execute_result"
    }
   ],
   "source": [
    "float(False)"
   ]
  },
  {
   "cell_type": "markdown",
   "id": "889a6923-0541-40d1-87ff-33bff96b70c5",
   "metadata": {},
   "source": [
    "### iii) Complex Numbers:"
   ]
  },
  {
   "cell_type": "markdown",
   "id": "03f3a099-f478-4210-a7cd-49adef667104",
   "metadata": {},
   "source": [
    "* Complex Numbers are defined as a combination of real and imaginary parts"
   ]
  },
  {
   "cell_type": "markdown",
   "id": "c6057d1a-e888-4b15-8440-1fc223634f1f",
   "metadata": {},
   "source": [
    "* Complex Numbers can be expressed as=a+bj\n",
    "* a=real part\n",
    "* b=imaginary part\n",
    "* j=imaginary unit"
   ]
  },
  {
   "cell_type": "code",
   "execution_count": 25,
   "id": "187a4870-312d-4c82-b797-973fd342e792",
   "metadata": {},
   "outputs": [],
   "source": [
    "z=complex(5,8)"
   ]
  },
  {
   "cell_type": "code",
   "execution_count": 26,
   "id": "b3c60a6a-63ca-4403-9b9d-31d2c13fc425",
   "metadata": {},
   "outputs": [
    {
     "name": "stdout",
     "output_type": "stream",
     "text": [
      "(5+8j)\n"
     ]
    }
   ],
   "source": [
    "print(z)"
   ]
  },
  {
   "cell_type": "code",
   "execution_count": 27,
   "id": "f19cf59f-cd15-4589-ac77-bb4ee28bb842",
   "metadata": {},
   "outputs": [],
   "source": [
    "x=7+10j"
   ]
  },
  {
   "cell_type": "code",
   "execution_count": 28,
   "id": "66c688ab-c291-446b-abcd-cd812c91362f",
   "metadata": {},
   "outputs": [
    {
     "name": "stdout",
     "output_type": "stream",
     "text": [
      "(7+10j)\n"
     ]
    }
   ],
   "source": [
    "print(x)"
   ]
  },
  {
   "cell_type": "code",
   "execution_count": 39,
   "id": "dcaa9afd-16cb-4c0e-9bec-cb46c37753c8",
   "metadata": {},
   "outputs": [
    {
     "data": {
      "text/plain": [
       "(20+0j)"
      ]
     },
     "execution_count": 39,
     "metadata": {},
     "output_type": "execute_result"
    }
   ],
   "source": [
    "complex(20)"
   ]
  },
  {
   "cell_type": "markdown",
   "id": "3991604f-dab3-488a-8bf8-3de0c8890115",
   "metadata": {},
   "source": [
    "## Arithmetic Operations:"
   ]
  },
  {
   "cell_type": "markdown",
   "id": "7d19ef9c-e7e1-47a9-a96a-ddfd163fbcf3",
   "metadata": {},
   "source": [
    "#### 1.Addition:"
   ]
  },
  {
   "cell_type": "markdown",
   "id": "5a10cc5d-3a38-4a41-b311-d490607c78ff",
   "metadata": {},
   "source": [
    "* Addition is a combination of two or more numbers to total(sum).\n",
    "* It is denoted by plus sign(+)"
   ]
  },
  {
   "cell_type": "code",
   "execution_count": 41,
   "id": "080bfc78-7738-4d18-8450-677f4acafda6",
   "metadata": {},
   "outputs": [
    {
     "name": "stdout",
     "output_type": "stream",
     "text": [
      "40\n"
     ]
    }
   ],
   "source": [
    "x=22\n",
    "y=18\n",
    "print(x+y)"
   ]
  },
  {
   "cell_type": "code",
   "execution_count": 42,
   "id": "1ad710c4-a9f4-43ab-a79e-0c858514392c",
   "metadata": {},
   "outputs": [
    {
     "name": "stdout",
     "output_type": "stream",
     "text": [
      "10\n"
     ]
    }
   ],
   "source": [
    "c=4\n",
    "d=6\n",
    "print(c+d)"
   ]
  },
  {
   "cell_type": "markdown",
   "id": "0af0575f-77c4-493b-81ca-3242b694e596",
   "metadata": {},
   "source": [
    "#### 2.Subtraction:"
   ]
  },
  {
   "cell_type": "markdown",
   "id": "f8b2e3a3-a3c6-4314-81b8-552057ce0ed9",
   "metadata": {},
   "source": [
    "* Subtraction is a difference between of two numbers.\n",
    "* It is a denoted by minus sign(-)"
   ]
  },
  {
   "cell_type": "code",
   "execution_count": 44,
   "id": "41200121-e54c-47d1-b681-46868623809e",
   "metadata": {},
   "outputs": [
    {
     "name": "stdout",
     "output_type": "stream",
     "text": [
      "5\n"
     ]
    }
   ],
   "source": [
    "a=10\n",
    "b=5\n",
    "print(a-b)"
   ]
  },
  {
   "cell_type": "code",
   "execution_count": 45,
   "id": "0677ceff-be57-4131-bdaf-2680d77c208a",
   "metadata": {},
   "outputs": [
    {
     "name": "stdout",
     "output_type": "stream",
     "text": [
      "90\n"
     ]
    }
   ],
   "source": [
    "s=100\n",
    "t=10\n",
    "print(s-t)"
   ]
  },
  {
   "cell_type": "markdown",
   "id": "c44c6e28-722c-4209-9b00-34b8d46f5678",
   "metadata": {},
   "source": [
    "#### 3.Multiplication:"
   ]
  },
  {
   "cell_type": "markdown",
   "id": "a075fee6-7f56-40ac-ba51-08863bde1db3",
   "metadata": {},
   "source": [
    "* Multiplication is a multiplication of two numbers.\n",
    "* It is denoted by multiplication sign(*)"
   ]
  },
  {
   "cell_type": "code",
   "execution_count": 51,
   "id": "f74e5696-43d5-4592-9101-a3d1030494b0",
   "metadata": {},
   "outputs": [
    {
     "name": "stdout",
     "output_type": "stream",
     "text": [
      "32\n"
     ]
    }
   ],
   "source": [
    "x=4\n",
    "z=8\n",
    "print(x*z)"
   ]
  },
  {
   "cell_type": "code",
   "execution_count": 47,
   "id": "599752f2-e8d1-4655-8d5f-a00542b4925b",
   "metadata": {},
   "outputs": [
    {
     "name": "stdout",
     "output_type": "stream",
     "text": [
      "10\n"
     ]
    }
   ],
   "source": [
    "e=10\n",
    "f=1\n",
    "print(e*f)"
   ]
  },
  {
   "cell_type": "markdown",
   "id": "9f84faeb-ae6f-4223-943c-b6217dd54913",
   "metadata": {},
   "source": [
    "#### 4.Division:"
   ]
  },
  {
   "cell_type": "markdown",
   "id": "07601f95-0d67-481b-806f-3316f3ff1f0f",
   "metadata": {},
   "source": [
    "* Division is a dividation of two numbers.\n",
    "* It is denoted by devision sign(/)"
   ]
  },
  {
   "cell_type": "code",
   "execution_count": 48,
   "id": "7e37feec-9859-48a6-9466-2ba84a361887",
   "metadata": {},
   "outputs": [
    {
     "name": "stdout",
     "output_type": "stream",
     "text": [
      "10.0\n"
     ]
    }
   ],
   "source": [
    "k=100\n",
    "l=10\n",
    "print(k/l)"
   ]
  },
  {
   "cell_type": "code",
   "execution_count": 50,
   "id": "f0537cb2-012d-4630-b44e-625d4635ea81",
   "metadata": {},
   "outputs": [
    {
     "name": "stdout",
     "output_type": "stream",
     "text": [
      "11.25\n"
     ]
    }
   ],
   "source": [
    "a=45\n",
    "b=4\n",
    "print(a/b)"
   ]
  },
  {
   "cell_type": "code",
   "execution_count": null,
   "id": "730b0e7e-82e8-4ffb-9611-f5488d3a1bd0",
   "metadata": {},
   "outputs": [],
   "source": []
  }
 ],
 "metadata": {
  "kernelspec": {
   "display_name": "Python 3 (ipykernel)",
   "language": "python",
   "name": "python3"
  },
  "language_info": {
   "codemirror_mode": {
    "name": "ipython",
    "version": 3
   },
   "file_extension": ".py",
   "mimetype": "text/x-python",
   "name": "python",
   "nbconvert_exporter": "python",
   "pygments_lexer": "ipython3",
   "version": "3.11.7"
  }
 },
 "nbformat": 4,
 "nbformat_minor": 5
}
