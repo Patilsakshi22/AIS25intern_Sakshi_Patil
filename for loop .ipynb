{
 "cells": [
  {
   "cell_type": "markdown",
   "id": "5d3f103a-e87b-49e1-beec-845a7a1d4bc2",
   "metadata": {},
   "source": [
    "#### 1) Print odd value between 20 and 80 without using if.using for loop only."
   ]
  },
  {
   "cell_type": "code",
   "execution_count": 3,
   "id": "4959786b-b612-41b6-9201-25dd4fa5c88e",
   "metadata": {},
   "outputs": [
    {
     "name": "stdout",
     "output_type": "stream",
     "text": [
      "21\n",
      "23\n",
      "25\n",
      "27\n",
      "29\n",
      "31\n",
      "33\n",
      "35\n",
      "37\n",
      "39\n",
      "41\n",
      "43\n",
      "45\n",
      "47\n",
      "49\n",
      "51\n",
      "53\n",
      "55\n",
      "57\n",
      "59\n",
      "61\n",
      "63\n",
      "65\n",
      "67\n",
      "69\n",
      "71\n",
      "73\n",
      "75\n",
      "77\n",
      "79\n"
     ]
    }
   ],
   "source": [
    "for i in range(21, 80, 2):\n",
    "    print(i)"
   ]
  },
  {
   "cell_type": "markdown",
   "id": "bf0a0c25-f638-4de3-aa5c-04ba04f6933a",
   "metadata": {},
   "source": [
    "#### 2) creat a list of 1 to 20 numbers using for loop [1,2,3,.....20]"
   ]
  },
  {
   "cell_type": "code",
   "execution_count": 8,
   "id": "ae0b5255-2262-4969-b4c5-8374c597cb28",
   "metadata": {},
   "outputs": [
    {
     "name": "stdout",
     "output_type": "stream",
     "text": [
      "[1, 2, 3, 4, 5, 6, 7, 8, 9, 10, 11, 12, 13, 14, 15, 16, 17, 18, 19, 20]\n"
     ]
    }
   ],
   "source": [
    "numbers = []\n",
    "for i in range(1, 21):\n",
    "    numbers.append(i)\n",
    "print(numbers)"
   ]
  },
  {
   "cell_type": "markdown",
   "id": "41ebdb04-00d8-4958-88e0-1911f7de89ed",
   "metadata": {},
   "source": [
    "#### 3) Create a list of 20 to 1 value using for loop (dont use reverse )[20,19,18,.......3,2,1]"
   ]
  },
  {
   "cell_type": "code",
   "execution_count": 13,
   "id": "0c6a48d1-7b9a-4962-88d9-5cfbb4348fb1",
   "metadata": {},
   "outputs": [
    {
     "name": "stdout",
     "output_type": "stream",
     "text": [
      "[20, 19, 18, 17, 16, 15, 14, 13, 12, 11, 10, 9, 8, 7, 6, 5, 4, 3, 2, 1]\n"
     ]
    }
   ],
   "source": [
    "numbers = []\n",
    "for i in range(20, 0, -1):\n",
    "    numbers.append(i)\n",
    "print(numbers)"
   ]
  },
  {
   "cell_type": "markdown",
   "id": "791ba1d0-815f-4be5-85d6-2350252cdc3d",
   "metadata": {},
   "source": [
    "#### 4) take cube of odd values between 20 to 40"
   ]
  },
  {
   "cell_type": "code",
   "execution_count": 20,
   "id": "5f3ccbe1-35ab-4658-b97a-42bdc301cf7e",
   "metadata": {},
   "outputs": [
    {
     "name": "stdout",
     "output_type": "stream",
     "text": [
      "9261\n",
      "12167\n",
      "15625\n",
      "19683\n",
      "24389\n",
      "29791\n",
      "35937\n",
      "42875\n",
      "50653\n",
      "59319\n"
     ]
    }
   ],
   "source": [
    "for num in range (21,40,2):\n",
    "    print( num**3)"
   ]
  },
  {
   "cell_type": "markdown",
   "id": "90433242-f3d6-4637-8c05-f09a319006f5",
   "metadata": {},
   "source": [
    "#### 5) take five friends name in list name = [a,b,c,d,e] take corresponding ages in second list age =[20,21,23,25,24]"
   ]
  },
  {
   "cell_type": "code",
   "execution_count": 23,
   "id": "1b43da8b-ae9b-4a98-aa2e-bab753d92881",
   "metadata": {},
   "outputs": [
    {
     "name": "stdout",
     "output_type": "stream",
     "text": [
      " My name is a,my age is 20\n",
      " My name is b,my age is 21\n",
      " My name is c,my age is 22\n",
      " My name is d,my age is 23\n",
      " My name is e,my age is 24\n"
     ]
    }
   ],
   "source": [
    "names = ['a','b','c','d','e']\n",
    "ages = [20,21,22,23,24]\n",
    "for i in range (len(names)):\n",
    "    print(f\" My name is {names[i]},my age is {ages[i]}\")"
   ]
  },
  {
   "cell_type": "code",
   "execution_count": null,
   "id": "dfb8911b-dd86-476a-acc1-36adad45cc7b",
   "metadata": {},
   "outputs": [],
   "source": []
  }
 ],
 "metadata": {
  "kernelspec": {
   "display_name": "Python 3 (ipykernel)",
   "language": "python",
   "name": "python3"
  },
  "language_info": {
   "codemirror_mode": {
    "name": "ipython",
    "version": 3
   },
   "file_extension": ".py",
   "mimetype": "text/x-python",
   "name": "python",
   "nbconvert_exporter": "python",
   "pygments_lexer": "ipython3",
   "version": "3.12.4"
  }
 },
 "nbformat": 4,
 "nbformat_minor": 5
}
