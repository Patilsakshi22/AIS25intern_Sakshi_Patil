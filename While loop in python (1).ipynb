{
 "cells": [
  {
   "cell_type": "markdown",
   "id": "52402326-d445-4b54-b0c9-671d713059b9",
   "metadata": {},
   "source": [
    "# while loop:"
   ]
  },
  {
   "cell_type": "markdown",
   "id": "e91dc67f-831d-454e-a61d-0388c7f3c476",
   "metadata": {},
   "source": [
    "It will execute block of code repetadly until the condition becomes false."
   ]
  },
  {
   "cell_type": "raw",
   "id": "dd3896d9-48d2-4855-bac3-2b5ccd2bb9c3",
   "metadata": {},
   "source": [
    " syntax:\n",
    " while condition:\n",
    "     statements "
   ]
  },
  {
   "cell_type": "markdown",
   "id": "819c89ee-4cbd-4cbd-aa81-b9fa3ae8b84d",
   "metadata": {},
   "source": [
    "### 1)Odd even using while loop"
   ]
  },
  {
   "cell_type": "code",
   "execution_count": 2,
   "id": "d689e9e6-2380-4dcf-b315-9ba5196881f9",
   "metadata": {},
   "outputs": [
    {
     "name": "stdout",
     "output_type": "stream",
     "text": [
      "1 is odd\n",
      "2 is even\n",
      "3 is odd\n",
      "4 is even\n",
      "5 is odd\n",
      "6 is even\n",
      "7 is odd\n",
      "8 is even\n",
      "9 is odd\n",
      "10 is even\n"
     ]
    }
   ],
   "source": [
    "num = 1\n",
    "while num <=10:\n",
    "    if num % 2 == 0:\n",
    "        print(num,\"is even\")\n",
    "    else:\n",
    "        print(num,\"is odd\")\n",
    "    num += 1\n",
    "    "
   ]
  },
  {
   "cell_type": "markdown",
   "id": "486ed11a-dc33-4c72-aeaf-75981da6d29f",
   "metadata": {},
   "source": [
    "### 2) printing  ** using while loop"
   ]
  },
  {
   "cell_type": "code",
   "execution_count": 4,
   "id": "5ef4266c-5b8c-4a4c-921a-a38d56848f0a",
   "metadata": {},
   "outputs": [
    {
     "name": "stdout",
     "output_type": "stream",
     "text": [
      "*\n",
      "**\n",
      "***\n",
      "****\n",
      "*****\n"
     ]
    }
   ],
   "source": [
    "rows = 5\n",
    "i= 1\n",
    "while i <=rows:\n",
    "    print(\"*\"* i)\n",
    "    i += 1"
   ]
  },
  {
   "cell_type": "markdown",
   "id": "ed2ac224-c858-4f7d-a144-c74719580253",
   "metadata": {},
   "source": [
    "### 3)Create list of 1 to 20 numbers using while loop"
   ]
  },
  {
   "cell_type": "code",
   "execution_count": 11,
   "id": "ce42a76e-573d-449e-88f0-eba59d49ef38",
   "metadata": {},
   "outputs": [
    {
     "name": "stdout",
     "output_type": "stream",
     "text": [
      "[1, 2, 3, 4, 5, 6, 7, 8, 9, 10, 11, 12, 13, 14, 15, 16, 17, 18, 19, 20]\n"
     ]
    }
   ],
   "source": [
    "number =[]\n",
    "i = 1\n",
    "while i <= 20:\n",
    "    number.append(i)\n",
    "    i += 1\n",
    "print(number)"
   ]
  },
  {
   "cell_type": "markdown",
   "id": "60844c71-8f2c-4fc6-a9a1-534eac4866f5",
   "metadata": {},
   "source": [
    "### 4)Create a list of 20 to 1 numbers using while loop"
   ]
  },
  {
   "cell_type": "code",
   "execution_count": 19,
   "id": "89de4276-58ec-4a09-babd-3afbf3a80612",
   "metadata": {},
   "outputs": [
    {
     "name": "stdout",
     "output_type": "stream",
     "text": [
      "[20, 19, 18, 17, 16, 15, 14, 13, 12, 11, 10, 9, 8, 7, 6, 5, 4, 3, 2, 1]\n"
     ]
    }
   ],
   "source": [
    "number =[]\n",
    "i = 20\n",
    "while i >= 1:\n",
    "    number.append(i)\n",
    "    i -= 1\n",
    "print(number)"
   ]
  },
  {
   "cell_type": "markdown",
   "id": "1a8aed9b-f7d1-4115-a39c-6b8107d92b3f",
   "metadata": {},
   "source": [
    "### 5)Break,Continue,pass:"
   ]
  },
  {
   "cell_type": "markdown",
   "id": "c450e8c4-1bcb-44ae-bb69-bbbbd563ad5a",
   "metadata": {},
   "source": [
    "Break: \n",
    "* The break statement in Python is used to exit a loop prematurely, regardless of the condition of the loop.\n",
    "* When Python encounters a break statement, it immediately terminates the loop and proceeds with the next line of code outside the loop."
   ]
  },
  {
   "cell_type": "code",
   "execution_count": 24,
   "id": "d82c0a21-1eb2-4154-a226-794ee53e0a38",
   "metadata": {},
   "outputs": [
    {
     "name": "stdout",
     "output_type": "stream",
     "text": [
      "1\n",
      "2\n",
      "3\n",
      "4\n"
     ]
    }
   ],
   "source": [
    "i=1\n",
    "while i<= 7:\n",
    "    if i==5:\n",
    "        break\n",
    "    print(i)\n",
    "    i+=1"
   ]
  },
  {
   "cell_type": "markdown",
   "id": "ca0072a7-9a29-4e5c-afb0-7b7bed76d19c",
   "metadata": {},
   "source": [
    "\n",
    "Continue:\n",
    "*  The continue statement in Python is used to skip the remainder of the code inside a loop for the current iteration only.\n",
    "*  The loop does not terminate but proceeds to the next iteration\n"
   ]
  },
  {
   "cell_type": "code",
   "execution_count": 26,
   "id": "9cf5b255-edfb-420d-affc-00c92508ecf1",
   "metadata": {},
   "outputs": [
    {
     "name": "stdout",
     "output_type": "stream",
     "text": [
      "1\n",
      "2\n",
      "3\n",
      "4\n",
      "6\n",
      "7\n"
     ]
    }
   ],
   "source": [
    "i=1\n",
    "while i<=7:\n",
    "    if i==5:\n",
    "        i+=1\n",
    "        continue\n",
    "    print(i)\n",
    "    i+=1"
   ]
  },
  {
   "cell_type": "markdown",
   "id": "4e3702c2-75ce-4adf-a1b7-37bc6c87b7da",
   "metadata": {},
   "source": [
    "Pass: \n",
    "* The pass statement in Python is a null operation; nothing happens when it is executed. \n",
    "* It is used as a placeholder in a block where Python expects an expression."
   ]
  },
  {
   "cell_type": "code",
   "execution_count": 28,
   "id": "0e2cf5e0-082f-4285-b84a-79e084061978",
   "metadata": {},
   "outputs": [
    {
     "name": "stdout",
     "output_type": "stream",
     "text": [
      "1\n",
      "2\n",
      "3\n",
      "4\n",
      "5\n",
      "6\n",
      "7\n",
      "8\n",
      "9\n",
      "10\n"
     ]
    }
   ],
   "source": [
    "i=1\n",
    "while i<=10:\n",
    "    if i==5:\n",
    "        pass \n",
    "    print(i)\n",
    "    i+=1"
   ]
  },
  {
   "cell_type": "code",
   "execution_count": null,
   "id": "c79378eb-af4a-4c49-960c-d63c14cf45b4",
   "metadata": {},
   "outputs": [],
   "source": []
  }
 ],
 "metadata": {
  "kernelspec": {
   "display_name": "Python 3 (ipykernel)",
   "language": "python",
   "name": "python3"
  },
  "language_info": {
   "codemirror_mode": {
    "name": "ipython",
    "version": 3
   },
   "file_extension": ".py",
   "mimetype": "text/x-python",
   "name": "python",
   "nbconvert_exporter": "python",
   "pygments_lexer": "ipython3",
   "version": "3.11.7"
  }
 },
 "nbformat": 4,
 "nbformat_minor": 5
}
